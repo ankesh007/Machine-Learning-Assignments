{
 "cells": [
  {
   "cell_type": "code",
   "execution_count": 2,
   "metadata": {},
   "outputs": [],
   "source": [
    "import os\n",
    "import numpy as np\n",
    "import pandas as pd\n",
    "from sklearn.decomposition import PCA"
   ]
  },
  {
   "cell_type": "code",
   "execution_count": 3,
   "metadata": {},
   "outputs": [],
   "source": [
    "train_data_folder='Dataset/train/'\n",
    "train_files=os.listdir(train_data_folder)"
   ]
  },
  {
   "cell_type": "code",
   "execution_count": 4,
   "metadata": {},
   "outputs": [
    {
     "name": "stdout",
     "output_type": "stream",
     "text": [
      "(100000, 785)\n",
      "{'eyeglasses': 5, 'snowman': 10, 'harp': 14, 'bulldozer': 12, 'laptop': 18, 'penguin': 13, 'violin': 7, 'trombone': 16, 'hat': 4, 'nose': 1, 'pig': 15, 'banana': 2, 'spider': 11, 'parrot': 8, 'foot': 19, 'hand': 17, 'keyboard': 3, 'flashlight': 9, 'chair': 6, 'skyscraper': 0}\n",
      "{0: 'skyscraper', 1: 'nose', 2: 'banana', 3: 'keyboard', 4: 'hat', 5: 'eyeglasses', 6: 'chair', 7: 'violin', 8: 'parrot', 9: 'flashlight', 10: 'snowman', 11: 'spider', 12: 'bulldozer', 13: 'penguin', 14: 'harp', 15: 'pig', 16: 'trombone', 17: 'hand', 18: 'laptop', 19: 'foot'}\n"
     ]
    }
   ],
   "source": [
    "complete_data=None\n",
    "string_to_int={}\n",
    "int_to_string={}\n",
    "counter=0\n",
    "\n",
    "def fill_data(filename):\n",
    "    data=np.load(file=train_data_folder+filename)\n",
    "    filename=filename.split('.')[0]\n",
    "    temp_var=-1\n",
    "    \n",
    "    global counter\n",
    "    global complete_data\n",
    "    global string_to_int\n",
    "    global int_to_string\n",
    "    \n",
    "    if filename in string_to_int:\n",
    "        temp_var=string_to_int[filename]\n",
    "    \n",
    "    else:\n",
    "        temp_var=counter\n",
    "        counter+=1\n",
    "        string_to_int[filename]=temp_var\n",
    "        int_to_string[temp_var]=filename\n",
    "    \n",
    "    dimension=data.shape\n",
    "    temp_y=np.ones(shape=(dimension[0],1),dtype=np.float64)*temp_var\n",
    "    data=np.concatenate((data,temp_y),axis=1)\n",
    "    \n",
    "    if complete_data is None:\n",
    "        complete_data=np.copy(data)\n",
    "    \n",
    "    else:\n",
    "        complete_data=np.concatenate((complete_data,data),axis=0)\n",
    "    \n",
    "\n",
    "for filename in train_files:\n",
    "    fill_data(filename)\n",
    "\n",
    "print(complete_data.shape)\n",
    "print(string_to_int)\n",
    "print(int_to_string)    "
   ]
  },
  {
   "cell_type": "code",
   "execution_count": 1,
   "metadata": {},
   "outputs": [
    {
     "ename": "NameError",
     "evalue": "name 'np' is not defined",
     "output_type": "error",
     "traceback": [
      "\u001b[0;31m-----------------------------------------------------------------------\u001b[0m",
      "\u001b[0;31mNameError\u001b[0m                             Traceback (most recent call last)",
      "\u001b[0;32m<ipython-input-1-c04610fd0d29>\u001b[0m in \u001b[0;36m<module>\u001b[0;34m()\u001b[0m\n\u001b[0;32m----> 1\u001b[0;31m \u001b[0mcomplete_data\u001b[0m\u001b[0;34m=\u001b[0m\u001b[0mnp\u001b[0m\u001b[0;34m.\u001b[0m\u001b[0mrandom\u001b[0m\u001b[0;34m.\u001b[0m\u001b[0mpermutation\u001b[0m\u001b[0;34m(\u001b[0m\u001b[0mcomplete_data\u001b[0m\u001b[0;34m)\u001b[0m\u001b[0;34m\u001b[0m\u001b[0m\n\u001b[0m\u001b[1;32m      2\u001b[0m \u001b[0mprint\u001b[0m\u001b[0;34m(\u001b[0m\u001b[0mcomplete_data\u001b[0m\u001b[0;34m.\u001b[0m\u001b[0mshape\u001b[0m\u001b[0;34m)\u001b[0m\u001b[0;34m\u001b[0m\u001b[0m\n",
      "\u001b[0;31mNameError\u001b[0m: name 'np' is not defined"
     ]
    }
   ],
   "source": [
    "complete_data=np.random.permutation(complete_data)\n",
    "print(complete_data.shape)"
   ]
  },
  {
   "cell_type": "code",
   "execution_count": 17,
   "metadata": {},
   "outputs": [
    {
     "data": {
      "text/plain": [
       "PCA(copy=True, iterated_power='auto', n_components=50, random_state=None,\n",
       "  svd_solver='auto', tol=0.0, whiten=False)"
      ]
     },
     "execution_count": 17,
     "metadata": {},
     "output_type": "execute_result"
    }
   ],
   "source": [
    "x_train=complete_data[:,0:784]\n",
    "y_train=complete_data[:,784:]\n",
    "pca=PCA(n_components=50)\n",
    "pca.fit(x_train)"
   ]
  },
  {
   "cell_type": "code",
   "execution_count": 18,
   "metadata": {},
   "outputs": [],
   "source": [
    "transformedX=pca.transform(x_train)"
   ]
  },
  {
   "cell_type": "code",
   "execution_count": 19,
   "metadata": {},
   "outputs": [
    {
     "data": {
      "text/plain": [
       "(100000, 50)"
      ]
     },
     "execution_count": 19,
     "metadata": {},
     "output_type": "execute_result"
    }
   ],
   "source": [
    "transformedX.shape"
   ]
  },
  {
   "cell_type": "code",
   "execution_count": 20,
   "metadata": {},
   "outputs": [],
   "source": [
    "complete_new=np.concatenate((transformedX,y_train),axis=1)"
   ]
  },
  {
   "cell_type": "code",
   "execution_count": 21,
   "metadata": {},
   "outputs": [],
   "source": [
    "df=pd.DataFrame(data=complete_new)\n",
    "df.to_csv(path_or_buf=\"Dataset/SVM.csv\",sep=',')"
   ]
  }
 ],
 "metadata": {
  "kernelspec": {
   "display_name": "Python 3",
   "language": "python",
   "name": "python3"
  },
  "language_info": {
   "codemirror_mode": {
    "name": "ipython",
    "version": 3
   },
   "file_extension": ".py",
   "mimetype": "text/x-python",
   "name": "python",
   "nbconvert_exporter": "python",
   "pygments_lexer": "ipython3",
   "version": "3.5.2"
  }
 },
 "nbformat": 4,
 "nbformat_minor": 2
}
