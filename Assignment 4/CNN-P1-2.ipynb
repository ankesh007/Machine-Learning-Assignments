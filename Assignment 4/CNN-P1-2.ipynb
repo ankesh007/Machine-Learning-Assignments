{
 "cells": [
  {
   "cell_type": "code",
   "execution_count": 10,
   "metadata": {
    "scrolled": true
   },
   "outputs": [],
   "source": [
    "import os\n",
    "import numpy as np\n",
    "import pandas as pd\n",
    "from keras.models import Sequential\n",
    "from keras.layers import Dense, Conv2D, MaxPooling2D, Dropout, Flatten\n",
    "from keras import utils as np_utils"
   ]
  },
  {
   "cell_type": "code",
   "execution_count": 11,
   "metadata": {},
   "outputs": [],
   "source": [
    "train_data_folder='Dataset/train/'\n",
    "test_data_folder='Dataset/test/'\n",
    "train_files=os.listdir(train_data_folder)"
   ]
  },
  {
   "cell_type": "code",
   "execution_count": 12,
   "metadata": {},
   "outputs": [
    {
     "name": "stdout",
     "output_type": "stream",
     "text": [
      "(100000, 785)\n",
      "{'keyboard': 3, 'harp': 14, 'banana': 2, 'foot': 19, 'penguin': 13, 'spider': 11, 'skyscraper': 0, 'snowman': 10, 'trombone': 16, 'hand': 17, 'chair': 6, 'hat': 4, 'flashlight': 9, 'violin': 7, 'nose': 1, 'laptop': 18, 'eyeglasses': 5, 'bulldozer': 12, 'pig': 15, 'parrot': 8}\n",
      "{0: 'skyscraper', 1: 'nose', 2: 'banana', 3: 'keyboard', 4: 'hat', 5: 'eyeglasses', 6: 'chair', 7: 'violin', 8: 'parrot', 9: 'flashlight', 10: 'snowman', 11: 'spider', 12: 'bulldozer', 13: 'penguin', 14: 'harp', 15: 'pig', 16: 'trombone', 17: 'hand', 18: 'laptop', 19: 'foot'}\n"
     ]
    }
   ],
   "source": [
    "complete_data=None\n",
    "string_to_int={}\n",
    "int_to_string={}\n",
    "counter=0\n",
    "\n",
    "def fill_data(filename):\n",
    "    data=np.load(file=train_data_folder+filename)\n",
    "    filename=filename.split('.')[0]\n",
    "    temp_var=-1\n",
    "    \n",
    "    global counter\n",
    "    global complete_data\n",
    "    global string_to_int\n",
    "    global int_to_string\n",
    "    \n",
    "    if filename in string_to_int:\n",
    "        temp_var=string_to_int[filename]\n",
    "    \n",
    "    else:\n",
    "        temp_var=counter\n",
    "        counter+=1\n",
    "        string_to_int[filename]=temp_var\n",
    "        int_to_string[temp_var]=filename\n",
    "    \n",
    "    dimension=data.shape\n",
    "    temp_y=np.ones(shape=(dimension[0],1),dtype=np.float64)*temp_var\n",
    "    data=np.concatenate((data,temp_y),axis=1)\n",
    "    \n",
    "    if complete_data is None:\n",
    "        complete_data=np.copy(data)\n",
    "    \n",
    "    else:\n",
    "        complete_data=np.concatenate((complete_data,data),axis=0)\n",
    "    \n",
    "\n",
    "for filename in train_files:\n",
    "    fill_data(filename)\n",
    "\n",
    "print(complete_data.shape)\n",
    "print(string_to_int)\n",
    "print(int_to_string)    "
   ]
  },
  {
   "cell_type": "code",
   "execution_count": 13,
   "metadata": {},
   "outputs": [
    {
     "name": "stdout",
     "output_type": "stream",
     "text": [
      "(100000, 785)\n"
     ]
    }
   ],
   "source": [
    "complete_data=np.random.permutation(complete_data)\n",
    "print(complete_data.shape)"
   ]
  },
  {
   "cell_type": "code",
   "execution_count": 14,
   "metadata": {},
   "outputs": [
    {
     "name": "stdout",
     "output_type": "stream",
     "text": [
      "(100000, 784)\n",
      "(100000, 20)\n",
      "(100000, 1)\n",
      "(100000, 784)\n"
     ]
    }
   ],
   "source": [
    "[instances,dimensions]=complete_data.shape\n",
    "\n",
    "x_train=complete_data[:,0:dimensions-1].astype(np.float32)\n",
    "test_x=np.load(file=\"Dataset/test/test.npy\").astype(np.float32)\n",
    "y_train2=complete_data[:,dimensions-1:].astype(np.int32)\n",
    "y_train = np_utils.to_categorical(y_train2)\n",
    "print(x_train.shape)\n",
    "print(y_train.shape)\n",
    "print(y_train2.shape)\n",
    "print(test_x.shape)\n",
    "categories=20"
   ]
  },
  {
   "cell_type": "code",
   "execution_count": 15,
   "metadata": {},
   "outputs": [],
   "source": [
    "# param=1000\n",
    "# x_train=x_train[0:param,:]\n",
    "# y_train=y_train[0:param]\n",
    "# y_train.shape\n",
    "x_train/=255.0\n",
    "test_x/=255.0\n",
    "x_train=x_train.reshape((100000,28,28,1))\n",
    "test_x=test_x.reshape((100000,28,28,1))"
   ]
  },
  {
   "cell_type": "code",
   "execution_count": null,
   "metadata": {},
   "outputs": [],
   "source": [
    "model = Sequential()\n",
    "model.add(Conv2D(64, (5, 5), padding='same', activation='relu', input_shape=(28,28,1)))\n",
    "model.add(MaxPooling2D(pool_size=(2, 2)))\n",
    "model.add(Flatten())\n",
    "model.add(Dense(50, activation='relu'))\n",
    "model.add(Dense(categories, activation='softmax'))"
   ]
  },
  {
   "cell_type": "code",
   "execution_count": null,
   "metadata": {},
   "outputs": [
    {
     "name": "stdout",
     "output_type": "stream",
     "text": [
      "Train on 95000 samples, validate on 5000 samples\n",
      "Epoch 1/100\n",
      "95000/95000 [==============================] - 6s 60us/step - loss: 1.1546 - acc: 0.6752 - val_loss: 0.7177 - val_acc: 0.8070\n",
      "Epoch 2/100\n",
      "95000/95000 [==============================] - 5s 48us/step - loss: 0.6114 - acc: 0.8279 - val_loss: 0.5788 - val_acc: 0.8296\n",
      "Epoch 3/100\n",
      "95000/95000 [==============================] - 5s 47us/step - loss: 0.4945 - acc: 0.8588 - val_loss: 0.5325 - val_acc: 0.8468\n",
      "Epoch 4/100\n",
      "95000/95000 [==============================] - 5s 48us/step - loss: 0.4339 - acc: 0.8747 - val_loss: 0.4953 - val_acc: 0.8564\n",
      "Epoch 5/100\n",
      "95000/95000 [==============================] - 5s 48us/step - loss: 0.3925 - acc: 0.8863 - val_loss: 0.4687 - val_acc: 0.8612\n",
      "Epoch 6/100\n",
      "95000/95000 [==============================] - 5s 48us/step - loss: 0.3611 - acc: 0.8940 - val_loss: 0.4633 - val_acc: 0.8634\n",
      "Epoch 7/100\n",
      "95000/95000 [==============================] - 5s 47us/step - loss: 0.3264 - acc: 0.9039 - val_loss: 0.4559 - val_acc: 0.8646\n",
      "Epoch 8/100\n",
      "95000/95000 [==============================] - 5s 49us/step - loss: 0.3015 - acc: 0.9113 - val_loss: 0.4717 - val_acc: 0.8630\n",
      "Epoch 9/100\n",
      "95000/95000 [==============================] - 5s 48us/step - loss: 0.2690 - acc: 0.9216 - val_loss: 0.4696 - val_acc: 0.8590\n",
      "Epoch 10/100\n",
      "95000/95000 [==============================] - 5s 48us/step - loss: 0.2440 - acc: 0.9285 - val_loss: 0.4803 - val_acc: 0.8624\n",
      "Epoch 11/100\n",
      "95000/95000 [==============================] - 5s 47us/step - loss: 0.2152 - acc: 0.9362 - val_loss: 0.4939 - val_acc: 0.8556\n",
      "Epoch 12/100\n",
      "95000/95000 [==============================] - 5s 47us/step - loss: 0.1902 - acc: 0.9447 - val_loss: 0.5499 - val_acc: 0.8432\n",
      "Epoch 13/100\n",
      "95000/95000 [==============================] - 4s 47us/step - loss: 0.1649 - acc: 0.9526 - val_loss: 0.5335 - val_acc: 0.8472\n",
      "Epoch 14/100\n",
      "95000/95000 [==============================] - 5s 48us/step - loss: 0.1412 - acc: 0.9604 - val_loss: 0.5475 - val_acc: 0.8494\n",
      "Epoch 15/100\n",
      "95000/95000 [==============================] - 5s 49us/step - loss: 0.1222 - acc: 0.9652 - val_loss: 0.5749 - val_acc: 0.8502\n",
      "Epoch 16/100\n",
      "95000/95000 [==============================] - 5s 49us/step - loss: 0.1011 - acc: 0.9727 - val_loss: 0.6413 - val_acc: 0.8404\n",
      "Epoch 17/100\n",
      "95000/95000 [==============================] - 5s 48us/step - loss: 0.0891 - acc: 0.9765 - val_loss: 0.6122 - val_acc: 0.8500\n",
      "Epoch 18/100\n",
      "95000/95000 [==============================] - 5s 48us/step - loss: 0.0654 - acc: 0.9849 - val_loss: 0.6839 - val_acc: 0.8422\n",
      "Epoch 19/100\n",
      "95000/95000 [==============================] - 5s 48us/step - loss: 0.0584 - acc: 0.9860 - val_loss: 0.6734 - val_acc: 0.8480\n",
      "Epoch 20/100\n",
      "95000/95000 [==============================] - 5s 49us/step - loss: 0.0428 - acc: 0.9917 - val_loss: 0.7134 - val_acc: 0.8464\n",
      "Epoch 21/100\n",
      "95000/95000 [==============================] - 5s 48us/step - loss: 0.0384 - acc: 0.9922 - val_loss: 0.7549 - val_acc: 0.8396\n",
      "Epoch 22/100\n",
      "18688/95000 [====>.........................] - ETA: 3s - loss: 0.0294 - acc: 0.9952"
     ]
    }
   ],
   "source": [
    "batch_size = 256\n",
    "epochs = 100\n",
    "model.compile(optimizer='adam', loss='categorical_crossentropy', metrics=['accuracy'])\n",
    "history = model.fit(x_train, y_train, batch_size=batch_size, epochs=epochs, verbose=1,validation_split=0.05)\n",
    "# model1.evaluate(test_data, test_labels_one_hot)"
   ]
  },
  {
   "cell_type": "code",
   "execution_count": null,
   "metadata": {},
   "outputs": [],
   "source": [
    "def label_to_string(label):\n",
    "    lis=[]\n",
    "    instances=label.shape[0]\n",
    "    for i in range(instances):\n",
    "        lis.append(int_to_string[label[i]])\n",
    "    return lis"
   ]
  },
  {
   "cell_type": "code",
   "execution_count": null,
   "metadata": {},
   "outputs": [],
   "source": []
  },
  {
   "cell_type": "code",
   "execution_count": null,
   "metadata": {},
   "outputs": [],
   "source": [
    "predictions=np.argmax(model.predict(test_x),axis=1)\n",
    "print(predictions.shape)\n",
    "predictions=label_to_string(predictions)\n",
    "predictions=np.asarray(predictions)\n",
    "print(predictions.shape)"
   ]
  },
  {
   "cell_type": "code",
   "execution_count": null,
   "metadata": {},
   "outputs": [],
   "source": [
    "df=pd.DataFrame(data=predictions,columns=['CATEGORY'])\n",
    "df.index.name='ID'\n",
    "df.to_csv(path_or_buf=\"ignore/CNN_sub.csv\",sep=',')"
   ]
  },
  {
   "cell_type": "code",
   "execution_count": null,
   "metadata": {},
   "outputs": [],
   "source": []
  },
  {
   "cell_type": "code",
   "execution_count": null,
   "metadata": {},
   "outputs": [],
   "source": []
  }
 ],
 "metadata": {
  "kernelspec": {
   "display_name": "Python 3",
   "language": "python",
   "name": "python3"
  },
  "language_info": {
   "codemirror_mode": {
    "name": "ipython",
    "version": 3
   },
   "file_extension": ".py",
   "mimetype": "text/x-python",
   "name": "python",
   "nbconvert_exporter": "python",
   "pygments_lexer": "ipython3",
   "version": "3.5.2"
  }
 },
 "nbformat": 4,
 "nbformat_minor": 2
}
