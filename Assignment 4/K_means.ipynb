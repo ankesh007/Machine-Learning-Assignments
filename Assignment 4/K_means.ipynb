{
 "cells": [
  {
   "cell_type": "code",
   "execution_count": 176,
   "metadata": {},
   "outputs": [],
   "source": [
    "import os\n",
    "import numpy as np\n",
    "from sklearn.cluster import KMeans\n",
    "import pandas as pd"
   ]
  },
  {
   "cell_type": "code",
   "execution_count": 174,
   "metadata": {},
   "outputs": [],
   "source": [
    "train_data_folder='Dataset/train/'\n",
    "test_data_folder='Dataset/test/'\n",
    "train_files=os.listdir(train_data_folder)\n",
    "test_x=np.load(file=\"Dataset/test/test.npy\")"
   ]
  },
  {
   "cell_type": "code",
   "execution_count": 15,
   "metadata": {},
   "outputs": [
    {
     "name": "stdout",
     "output_type": "stream",
     "text": [
      "(100000, 785)\n",
      "{'skyscraper': 0, 'keyboard': 2, 'eyeglasses': 19, 'chair': 16, 'foot': 6, 'flashlight': 8, 'spider': 18, 'violin': 10, 'hand': 17, 'banana': 7, 'harp': 12, 'laptop': 4, 'pig': 14, 'hat': 9, 'snowman': 1, 'nose': 11, 'trombone': 5, 'parrot': 3, 'bulldozer': 15, 'penguin': 13}\n",
      "{0: 'skyscraper', 1: 'snowman', 2: 'keyboard', 3: 'parrot', 4: 'laptop', 5: 'trombone', 6: 'foot', 7: 'banana', 8: 'flashlight', 9: 'hat', 10: 'violin', 11: 'nose', 12: 'harp', 13: 'penguin', 14: 'pig', 15: 'bulldozer', 16: 'chair', 17: 'hand', 18: 'spider', 19: 'eyeglasses'}\n"
     ]
    }
   ],
   "source": [
    "complete_data=None\n",
    "string_to_int={}\n",
    "int_to_string={}\n",
    "counter=0\n",
    "\n",
    "def fill_data(filename):\n",
    "    data=np.load(file=train_data_folder+filename)\n",
    "    filename=filename.split('.')[0]\n",
    "    temp_var=-1\n",
    "    \n",
    "    global counter\n",
    "    global complete_data\n",
    "    global string_to_int\n",
    "    global int_to_string\n",
    "    \n",
    "    if filename in string_to_int:\n",
    "        temp_var=string_to_int[filename]\n",
    "    \n",
    "    else:\n",
    "        temp_var=counter\n",
    "        counter+=1\n",
    "        string_to_int[filename]=temp_var\n",
    "        int_to_string[temp_var]=filename\n",
    "    \n",
    "    dimension=data.shape\n",
    "    temp_y=np.ones(shape=(dimension[0],1),dtype=np.float64)*temp_var\n",
    "    data=np.concatenate((data,temp_y),axis=1)\n",
    "    \n",
    "    if complete_data is None:\n",
    "        complete_data=np.copy(data)\n",
    "    \n",
    "    else:\n",
    "        complete_data=np.concatenate((complete_data,data),axis=0)\n",
    "    \n",
    "\n",
    "for filename in train_files:\n",
    "    fill_data(filename)\n",
    "\n",
    "print(complete_data.shape)\n",
    "print(string_to_int)\n",
    "print(int_to_string)    "
   ]
  },
  {
   "cell_type": "code",
   "execution_count": 131,
   "metadata": {},
   "outputs": [
    {
     "name": "stdout",
     "output_type": "stream",
     "text": [
      "(100000, 785)\n"
     ]
    }
   ],
   "source": [
    "complete_data=np.random.permutation(complete_data)\n",
    "print(complete_data.shape)"
   ]
  },
  {
   "cell_type": "code",
   "execution_count": 154,
   "metadata": {},
   "outputs": [],
   "source": [
    "def setuplabels(kmean_label,actual_label):\n",
    "    counter_arr=[]\n",
    "    kmeans_to_actual=[]\n",
    "    \n",
    "    for i in range(categories):\n",
    "        kmeans_to_actual.append(0)\n",
    "        counter_arr.append([])\n",
    "        for j in range(categories):\n",
    "            counter_arr[i].append(0)\n",
    "    \n",
    "    instances=kmean_label.shape[0]\n",
    "    for i in range(instances):\n",
    "        counter_arr[kmean_label[i]][actual_label[i]]+=1\n",
    "    \n",
    "    for i in range(categories):\n",
    "        maxy=0\n",
    "        maxy_val=0\n",
    "        \n",
    "        for j in range(categories):\n",
    "            if(counter_arr[i][j]>maxy):\n",
    "                maxy=counter_arr[i][j]\n",
    "                maxy_val=j\n",
    "        \n",
    "        kmeans_to_actual[i]=maxy_val\n",
    "    \n",
    "    return kmeans_to_actual"
   ]
  },
  {
   "cell_type": "code",
   "execution_count": 155,
   "metadata": {},
   "outputs": [],
   "source": [
    "def kmean_to_string(kmean_label):\n",
    "    lis=[]\n",
    "    for i in kmean_label:\n",
    "        lis.append(int_to_string[kmeans_to_actual[i]])    \n",
    "    return lis"
   ]
  },
  {
   "cell_type": "code",
   "execution_count": 156,
   "metadata": {},
   "outputs": [],
   "source": [
    "def kmeans_to_intLabel(kmean_label):\n",
    "    lis=[]\n",
    "    for i in kmean_label:\n",
    "        lis.append(kmeans_to_actual[i])\n",
    "    return lis"
   ]
  },
  {
   "cell_type": "code",
   "execution_count": 157,
   "metadata": {},
   "outputs": [],
   "source": [
    "def getAccuracy(kmean_label,actual_label):\n",
    "    instances=kmean_label.shape[0]\n",
    "    counter=0\n",
    "    predictions=kmeans_to_intLabel(kmean_label)\n",
    "    for i in range(instances):\n",
    "        if(predictions[i]==actual_label[i]):\n",
    "            counter+=1\n",
    "    \n",
    "    return counter/float(instances)"
   ]
  },
  {
   "cell_type": "code",
   "execution_count": 204,
   "metadata": {},
   "outputs": [
    {
     "name": "stdout",
     "output_type": "stream",
     "text": [
      "(100000, 784)\n",
      "(100000,)\n"
     ]
    }
   ],
   "source": [
    "[instances,dimensions]=complete_data.shape\n",
    "x_train=complete_data[:,0:dimensions-1]\n",
    "y_train=complete_data[:,dimensions-1].astype(np.int32)\n",
    "print(x_train.shape)\n",
    "print(y_train.shape)\n",
    "categories=20"
   ]
  },
  {
   "cell_type": "code",
   "execution_count": 205,
   "metadata": {},
   "outputs": [],
   "source": [
    "# param=5000\n",
    "# x_train=x_train[0:param,:]\n",
    "# y_train=y_train[0:param]\n",
    "# y_train.shape"
   ]
  },
  {
   "cell_type": "code",
   "execution_count": null,
   "metadata": {},
   "outputs": [],
   "source": [
    "kmeans = KMeans(n_clusters=categories, n_init=10).fit(x_train)\n",
    "kmeans"
   ]
  },
  {
   "cell_type": "code",
   "execution_count": null,
   "metadata": {},
   "outputs": [],
   "source": [
    "kmean_labels=kmeans.labels_\n",
    "kmeans_to_actual=setuplabels(kmean_labels,y_train)\n",
    "print(getAccuracy(kmean_labels,y_train))"
   ]
  },
  {
   "cell_type": "code",
   "execution_count": null,
   "metadata": {},
   "outputs": [],
   "source": [
    "pred_clusters=kmeans.predict(test_x)\n",
    "predictions=kmean_to_string(pred_clusters)\n",
    "predictions=np.asarray(predictions)\n",
    "print(predictions.shape)"
   ]
  },
  {
   "cell_type": "code",
   "execution_count": null,
   "metadata": {},
   "outputs": [],
   "source": [
    "df=pd.DataFrame(data=predictions,columns=['CATEGORY'])\n",
    "df.index.name='ID'\n",
    "df.to_csv(path_or_buf=\"ignore/sub.csv\",sep=',')"
   ]
  },
  {
   "cell_type": "code",
   "execution_count": null,
   "metadata": {},
   "outputs": [],
   "source": []
  }
 ],
 "metadata": {
  "kernelspec": {
   "display_name": "Python 3",
   "language": "python",
   "name": "python3"
  },
  "language_info": {
   "codemirror_mode": {
    "name": "ipython",
    "version": 3
   },
   "file_extension": ".py",
   "mimetype": "text/x-python",
   "name": "python",
   "nbconvert_exporter": "python",
   "pygments_lexer": "ipython3",
   "version": "3.5.2"
  }
 },
 "nbformat": 4,
 "nbformat_minor": 2
}
