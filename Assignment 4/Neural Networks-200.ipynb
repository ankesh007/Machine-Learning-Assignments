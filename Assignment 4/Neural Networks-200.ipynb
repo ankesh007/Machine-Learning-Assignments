{
 "cells": [
  {
   "cell_type": "code",
   "execution_count": 1,
   "metadata": {
    "scrolled": true
   },
   "outputs": [
    {
     "name": "stderr",
     "output_type": "stream",
     "text": [
      "/usr/local/lib/python3.5/dist-packages/h5py/__init__.py:36: FutureWarning: Conversion of the second argument of issubdtype from `float` to `np.floating` is deprecated. In future, it will be treated as `np.float64 == np.dtype(float).type`.\n",
      "  from ._conv import register_converters as _register_converters\n",
      "Using TensorFlow backend.\n"
     ]
    }
   ],
   "source": [
    "import os\n",
    "import numpy as np\n",
    "import pandas as pd\n",
    "from keras.models import Sequential\n",
    "from keras.layers import Dense\n",
    "from keras import utils as np_utils"
   ]
  },
  {
   "cell_type": "code",
   "execution_count": 2,
   "metadata": {},
   "outputs": [],
   "source": [
    "train_data_folder='Dataset/train/'\n",
    "test_data_folder='Dataset/test/'\n",
    "train_files=os.listdir(train_data_folder)"
   ]
  },
  {
   "cell_type": "code",
   "execution_count": 3,
   "metadata": {},
   "outputs": [
    {
     "name": "stdout",
     "output_type": "stream",
     "text": [
      "(100000, 785)\n",
      "{'hat': 4, 'flashlight': 9, 'pig': 15, 'hand': 17, 'penguin': 13, 'spider': 11, 'violin': 7, 'snowman': 10, 'laptop': 18, 'bulldozer': 12, 'skyscraper': 0, 'parrot': 8, 'nose': 1, 'chair': 6, 'trombone': 16, 'eyeglasses': 5, 'banana': 2, 'keyboard': 3, 'harp': 14, 'foot': 19}\n",
      "{0: 'skyscraper', 1: 'nose', 2: 'banana', 3: 'keyboard', 4: 'hat', 5: 'eyeglasses', 6: 'chair', 7: 'violin', 8: 'parrot', 9: 'flashlight', 10: 'snowman', 11: 'spider', 12: 'bulldozer', 13: 'penguin', 14: 'harp', 15: 'pig', 16: 'trombone', 17: 'hand', 18: 'laptop', 19: 'foot'}\n"
     ]
    }
   ],
   "source": [
    "complete_data=None\n",
    "string_to_int={}\n",
    "int_to_string={}\n",
    "counter=0\n",
    "\n",
    "def fill_data(filename):\n",
    "    data=np.load(file=train_data_folder+filename)\n",
    "    filename=filename.split('.')[0]\n",
    "    temp_var=-1\n",
    "    \n",
    "    global counter\n",
    "    global complete_data\n",
    "    global string_to_int\n",
    "    global int_to_string\n",
    "    \n",
    "    if filename in string_to_int:\n",
    "        temp_var=string_to_int[filename]\n",
    "    \n",
    "    else:\n",
    "        temp_var=counter\n",
    "        counter+=1\n",
    "        string_to_int[filename]=temp_var\n",
    "        int_to_string[temp_var]=filename\n",
    "    \n",
    "    dimension=data.shape\n",
    "    temp_y=np.ones(shape=(dimension[0],1),dtype=np.float64)*temp_var\n",
    "    data=np.concatenate((data,temp_y),axis=1)\n",
    "    \n",
    "    if complete_data is None:\n",
    "        complete_data=np.copy(data)\n",
    "    \n",
    "    else:\n",
    "        complete_data=np.concatenate((complete_data,data),axis=0)\n",
    "    \n",
    "\n",
    "for filename in train_files:\n",
    "    fill_data(filename)\n",
    "\n",
    "print(complete_data.shape)\n",
    "print(string_to_int)\n",
    "print(int_to_string)    "
   ]
  },
  {
   "cell_type": "code",
   "execution_count": 4,
   "metadata": {},
   "outputs": [
    {
     "name": "stdout",
     "output_type": "stream",
     "text": [
      "(100000, 785)\n"
     ]
    }
   ],
   "source": [
    "complete_data=np.random.permutation(complete_data)\n",
    "print(complete_data.shape)"
   ]
  },
  {
   "cell_type": "code",
   "execution_count": 5,
   "metadata": {},
   "outputs": [
    {
     "name": "stdout",
     "output_type": "stream",
     "text": [
      "(100000, 784)\n",
      "(100000, 20)\n",
      "(100000, 784)\n"
     ]
    }
   ],
   "source": [
    "[instances,dimensions]=complete_data.shape\n",
    "x_train=complete_data[:,0:dimensions-1]\n",
    "y_train=complete_data[:,dimensions-1:].astype(np.int32)\n",
    "y_train = np_utils.to_categorical(y_train)\n",
    "print(x_train.shape)\n",
    "print(y_train.shape)\n",
    "categories=20\n",
    "test_x=np.load(file=\"Dataset/test/test.npy\").astype(np.float32)\n",
    "print(test_x.shape)"
   ]
  },
  {
   "cell_type": "code",
   "execution_count": 6,
   "metadata": {},
   "outputs": [],
   "source": [
    "# param=1000\n",
    "# x_train=x_train[0:param,:]\n",
    "# y_train=y_train[0:param]\n",
    "# y_train.shape\n",
    "x_train/=255.0\n",
    "test_x/=255.0"
   ]
  },
  {
   "cell_type": "code",
   "execution_count": 7,
   "metadata": {},
   "outputs": [
    {
     "name": "stderr",
     "output_type": "stream",
     "text": [
      "/usr/local/lib/python3.5/dist-packages/ipykernel_launcher.py:2: UserWarning: Update your `Dense` call to the Keras 2 API: `Dense(units=200, input_dim=784, activation=\"sigmoid\")`\n",
      "  \n",
      "/usr/local/lib/python3.5/dist-packages/ipykernel_launcher.py:4: UserWarning: Update your `Dense` call to the Keras 2 API: `Dense(units=20, activation=\"softmax\")`\n",
      "  after removing the cwd from sys.path.\n"
     ]
    }
   ],
   "source": [
    "model = Sequential()\n",
    "model.add(Dense(output_dim=200, input_dim=784, activation='sigmoid'))\n",
    "# model.add(Dense(output_dim=40, activation='relu'))\n",
    "model.add(Dense(output_dim=20, activation='softmax'))\n",
    "model.compile(loss='categorical_crossentropy', optimizer='adam', metrics=['accuracy'])\n",
    "# model.add(Dense(1, activation='sigmoid'))"
   ]
  },
  {
   "cell_type": "code",
   "execution_count": 12,
   "metadata": {
    "scrolled": true
   },
   "outputs": [],
   "source": [
    "model.fit(x_train, y_train, epochs=50, batch_size=256,validation_split=0.1)\n",
    "# evaluate the model\n",
    "scores = model.evaluate(x_train, y_train)\n",
    "print(\"\\n%s: %.2f%%\" % (model.metrics_names[1], scores[1]*100))"
   ]
  },
  {
   "cell_type": "code",
   "execution_count": 9,
   "metadata": {},
   "outputs": [],
   "source": [
    "def label_to_string(label):\n",
    "    lis=[]\n",
    "    instances=label.shape[0]\n",
    "    for i in range(instances):\n",
    "        lis.append(int_to_string[label[i]])\n",
    "    return lis"
   ]
  },
  {
   "cell_type": "code",
   "execution_count": null,
   "metadata": {},
   "outputs": [],
   "source": []
  },
  {
   "cell_type": "code",
   "execution_count": 10,
   "metadata": {},
   "outputs": [
    {
     "name": "stdout",
     "output_type": "stream",
     "text": [
      "(100000,)\n",
      "(100000,)\n"
     ]
    }
   ],
   "source": [
    "predictions=np.argmax(model.predict(test_x),axis=1)\n",
    "print(predictions.shape)\n",
    "predictions=label_to_string(predictions)\n",
    "predictions=np.asarray(predictions)\n",
    "print(predictions.shape)"
   ]
  },
  {
   "cell_type": "code",
   "execution_count": 11,
   "metadata": {},
   "outputs": [],
   "source": [
    "df=pd.DataFrame(data=predictions,columns=['CATEGORY'])\n",
    "df.index.name='ID'\n",
    "df.to_csv(path_or_buf=\"ignore/NN_sub.csv\",sep=',')"
   ]
  },
  {
   "cell_type": "code",
   "execution_count": null,
   "metadata": {},
   "outputs": [],
   "source": []
  }
 ],
 "metadata": {
  "kernelspec": {
   "display_name": "Python 3",
   "language": "python",
   "name": "python3"
  },
  "language_info": {
   "codemirror_mode": {
    "name": "ipython",
    "version": 3
   },
   "file_extension": ".py",
   "mimetype": "text/x-python",
   "name": "python",
   "nbconvert_exporter": "python",
   "pygments_lexer": "ipython3",
   "version": "3.5.2"
  }
 },
 "nbformat": 4,
 "nbformat_minor": 2
}
