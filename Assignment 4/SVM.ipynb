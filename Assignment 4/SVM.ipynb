{
 "cells": [
  {
   "cell_type": "code",
   "execution_count": 6,
   "metadata": {},
   "outputs": [],
   "source": [
    "import os\n",
    "import numpy as np\n",
    "import pandas as pd\n",
    "from sklearn.svm import SVC"
   ]
  },
  {
   "cell_type": "code",
   "execution_count": 7,
   "metadata": {},
   "outputs": [],
   "source": [
    "x_train=pd.read_csv('Dataset/SVM_train.csv',header=None,sep=',').values\n",
    "x_test=pd.read_csv('Dataset/SVM_test.csv',header=None,sep=',').values\n",
    "[instances,dim]=x_train.shape\n",
    "np.random.shuffle(x_train)\n",
    "y_train=x_train[:,dim-1]\n",
    "x_train=x_train[:,0:dim-1]"
   ]
  },
  {
   "cell_type": "code",
   "execution_count": 3,
   "metadata": {},
   "outputs": [],
   "source": [
    "# instances=5000\n",
    "# x_train=x_train[:instances,:]\n",
    "# y_train=y_train[:instances]\n",
    "\n",
    "# x_train/=abs(np.max(x_train))"
   ]
  },
  {
   "cell_type": "code",
   "execution_count": 8,
   "metadata": {},
   "outputs": [],
   "source": [
    "test=int(0.85*instances)\n",
    "x_valid=x_train[test:,:]\n",
    "y_valid=y_train[test:]\n",
    "x_train=x_train[0:test,:]\n",
    "y_train=y_train[0:test]"
   ]
  },
  {
   "cell_type": "code",
   "execution_count": 9,
   "metadata": {},
   "outputs": [
    {
     "name": "stdout",
     "output_type": "stream",
     "text": [
      "0.6564117647058824\n",
      "0.6534666666666666\n",
      "0.2\n",
      "0.6563411764705882\n",
      "0.6536\n",
      "0.5\n",
      "0.6563294117647058\n",
      "0.6536666666666666\n",
      "1\n",
      "0.6564470588235294\n",
      "0.6535333333333333\n",
      "2\n",
      "0.6562470588235294\n",
      "0.6533333333333333\n",
      "5\n",
      "0.6564705882352941\n",
      "0.6534666666666666\n",
      "10\n"
     ]
    }
   ],
   "source": [
    "for i in [0.2,0.5,1,2,5,10]:\n",
    "    clf=SVC(C=i,decision_function_shape='ovo',kernel='linear')\n",
    "    clf.fit(x_train,y_train)\n",
    "    print(clf.score(x_train,y_train))\n",
    "    print(clf.score(x_valid,y_valid))\n",
    "    print(i)"
   ]
  },
  {
   "cell_type": "code",
   "execution_count": 10,
   "metadata": {},
   "outputs": [],
   "source": [
    "# y_train\n"
   ]
  },
  {
   "cell_type": "code",
   "execution_count": null,
   "metadata": {},
   "outputs": [],
   "source": []
  }
 ],
 "metadata": {
  "kernelspec": {
   "display_name": "Python 3",
   "language": "python",
   "name": "python3"
  },
  "language_info": {
   "codemirror_mode": {
    "name": "ipython",
    "version": 3
   },
   "file_extension": ".py",
   "mimetype": "text/x-python",
   "name": "python",
   "nbconvert_exporter": "python",
   "pygments_lexer": "ipython3",
   "version": "3.5.2"
  }
 },
 "nbformat": 4,
 "nbformat_minor": 2
}
