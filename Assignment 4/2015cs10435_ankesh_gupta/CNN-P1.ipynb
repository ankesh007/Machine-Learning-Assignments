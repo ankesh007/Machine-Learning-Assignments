{
 "cells": [
  {
   "cell_type": "code",
   "execution_count": 1,
   "metadata": {
    "scrolled": true
   },
   "outputs": [
    {
     "name": "stderr",
     "output_type": "stream",
     "text": [
      "/usr/local/lib/python3.5/dist-packages/h5py/__init__.py:36: FutureWarning: Conversion of the second argument of issubdtype from `float` to `np.floating` is deprecated. In future, it will be treated as `np.float64 == np.dtype(float).type`.\n",
      "  from ._conv import register_converters as _register_converters\n",
      "Using TensorFlow backend.\n"
     ]
    }
   ],
   "source": [
    "import os\n",
    "import numpy as np\n",
    "import pandas as pd\n",
    "from keras.models import Sequential\n",
    "from keras.layers import Dense, Conv2D, MaxPooling2D, Dropout, Flatten\n",
    "from keras import utils as np_utils"
   ]
  },
  {
   "cell_type": "code",
   "execution_count": 2,
   "metadata": {},
   "outputs": [],
   "source": [
    "train_data_folder='Dataset/train/'\n",
    "test_data_folder='Dataset/test/'\n",
    "train_files=os.listdir(train_data_folder)"
   ]
  },
  {
   "cell_type": "code",
   "execution_count": 3,
   "metadata": {},
   "outputs": [
    {
     "name": "stdout",
     "output_type": "stream",
     "text": [
      "(100000, 785)\n",
      "{'snowman': 10, 'nose': 1, 'bulldozer': 12, 'banana': 2, 'hat': 4, 'eyeglasses': 5, 'pig': 15, 'spider': 11, 'penguin': 13, 'harp': 14, 'laptop': 18, 'violin': 7, 'keyboard': 3, 'trombone': 16, 'chair': 6, 'foot': 19, 'hand': 17, 'flashlight': 9, 'skyscraper': 0, 'parrot': 8}\n",
      "{0: 'skyscraper', 1: 'nose', 2: 'banana', 3: 'keyboard', 4: 'hat', 5: 'eyeglasses', 6: 'chair', 7: 'violin', 8: 'parrot', 9: 'flashlight', 10: 'snowman', 11: 'spider', 12: 'bulldozer', 13: 'penguin', 14: 'harp', 15: 'pig', 16: 'trombone', 17: 'hand', 18: 'laptop', 19: 'foot'}\n"
     ]
    }
   ],
   "source": [
    "complete_data=None\n",
    "string_to_int={}\n",
    "int_to_string={}\n",
    "counter=0\n",
    "\n",
    "def fill_data(filename):\n",
    "    data=np.load(file=train_data_folder+filename)\n",
    "    filename=filename.split('.')[0]\n",
    "    temp_var=-1\n",
    "    \n",
    "    global counter\n",
    "    global complete_data\n",
    "    global string_to_int\n",
    "    global int_to_string\n",
    "    \n",
    "    if filename in string_to_int:\n",
    "        temp_var=string_to_int[filename]\n",
    "    \n",
    "    else:\n",
    "        temp_var=counter\n",
    "        counter+=1\n",
    "        string_to_int[filename]=temp_var\n",
    "        int_to_string[temp_var]=filename\n",
    "    \n",
    "    dimension=data.shape\n",
    "    temp_y=np.ones(shape=(dimension[0],1),dtype=np.float64)*temp_var\n",
    "    data=np.concatenate((data,temp_y),axis=1)\n",
    "    \n",
    "    if complete_data is None:\n",
    "        complete_data=np.copy(data)\n",
    "    \n",
    "    else:\n",
    "        complete_data=np.concatenate((complete_data,data),axis=0)\n",
    "    \n",
    "\n",
    "for filename in train_files:\n",
    "    fill_data(filename)\n",
    "\n",
    "print(complete_data.shape)\n",
    "print(string_to_int)\n",
    "print(int_to_string)    "
   ]
  },
  {
   "cell_type": "code",
   "execution_count": 4,
   "metadata": {},
   "outputs": [
    {
     "name": "stdout",
     "output_type": "stream",
     "text": [
      "(100000, 785)\n"
     ]
    }
   ],
   "source": [
    "complete_data=np.random.permutation(complete_data)\n",
    "print(complete_data.shape)"
   ]
  },
  {
   "cell_type": "code",
   "execution_count": 5,
   "metadata": {},
   "outputs": [
    {
     "name": "stdout",
     "output_type": "stream",
     "text": [
      "(100000, 784)\n",
      "(100000, 20)\n",
      "(100000, 1)\n",
      "(100000, 784)\n"
     ]
    }
   ],
   "source": [
    "[instances,dimensions]=complete_data.shape\n",
    "\n",
    "x_train=complete_data[:,0:dimensions-1].astype(np.float32)\n",
    "test_x=np.load(file=\"Dataset/test/test.npy\").astype(np.float32)\n",
    "y_train2=complete_data[:,dimensions-1:].astype(np.int32)\n",
    "y_train = np_utils.to_categorical(y_train2)\n",
    "print(x_train.shape)\n",
    "print(y_train.shape)\n",
    "print(y_train2.shape)\n",
    "print(test_x.shape)\n",
    "categories=20"
   ]
  },
  {
   "cell_type": "code",
   "execution_count": 12,
   "metadata": {},
   "outputs": [],
   "source": [
    "# param=1000\n",
    "# x_train=x_train[0:param,:]\n",
    "# y_train=y_train[0:param]\n",
    "# y_train.shape\n",
    "x_train/=255.0\n",
    "test_x/=255.0\n",
    "x_train=x_train.reshape((100000,28,28,1))\n",
    "test_x=test_x.reshape((100000,28,28,1))"
   ]
  },
  {
   "cell_type": "code",
   "execution_count": 13,
   "metadata": {},
   "outputs": [],
   "source": [
    "model = Sequential()\n",
    "model.add(Conv2D(32, (3, 3), padding='same', activation='relu', input_shape=(28,28,1)))\n",
    "model.add(MaxPooling2D(pool_size=(2, 2)))\n",
    "model.add(Flatten())\n",
    "model.add(Dense(50, activation='relu'))\n",
    "model.add(Dense(categories, activation='softmax'))"
   ]
  },
  {
   "cell_type": "code",
   "execution_count": 14,
   "metadata": {},
   "outputs": [
    {
     "name": "stdout",
     "output_type": "stream",
     "text": [
      "Train on 95000 samples, validate on 5000 samples\n",
      "Epoch 1/100\n",
      "95000/95000 [==============================] - 3s 33us/step - loss: 2.4866 - acc: 0.2847 - val_loss: 1.8836 - val_acc: 0.4600\n",
      "Epoch 2/100\n",
      "95000/95000 [==============================] - 3s 32us/step - loss: 1.6769 - acc: 0.5231 - val_loss: 1.5580 - val_acc: 0.5512\n",
      "Epoch 3/100\n",
      "95000/95000 [==============================] - 3s 32us/step - loss: 1.4443 - acc: 0.5925 - val_loss: 1.4325 - val_acc: 0.5892\n",
      "Epoch 4/100\n",
      "95000/95000 [==============================] - 3s 32us/step - loss: 1.3226 - acc: 0.6253 - val_loss: 1.3356 - val_acc: 0.6280\n",
      "Epoch 5/100\n",
      "95000/95000 [==============================] - 3s 32us/step - loss: 1.2616 - acc: 0.6394 - val_loss: 1.3393 - val_acc: 0.6098\n",
      "Epoch 6/100\n",
      "95000/95000 [==============================] - 3s 32us/step - loss: 1.2224 - acc: 0.6486 - val_loss: 1.2517 - val_acc: 0.6434\n",
      "Epoch 7/100\n",
      "95000/95000 [==============================] - 3s 32us/step - loss: 1.1919 - acc: 0.6566 - val_loss: 1.2283 - val_acc: 0.6492\n",
      "Epoch 8/100\n",
      "95000/95000 [==============================] - 3s 32us/step - loss: 1.1708 - acc: 0.6631 - val_loss: 1.2017 - val_acc: 0.6582\n",
      "Epoch 9/100\n",
      "95000/95000 [==============================] - 3s 32us/step - loss: 1.1478 - acc: 0.6688 - val_loss: 1.1925 - val_acc: 0.6600\n",
      "Epoch 10/100\n",
      "95000/95000 [==============================] - 3s 32us/step - loss: 1.1320 - acc: 0.6726 - val_loss: 1.1742 - val_acc: 0.6654\n",
      "Epoch 11/100\n",
      "95000/95000 [==============================] - 3s 32us/step - loss: 1.1172 - acc: 0.6765 - val_loss: 1.1629 - val_acc: 0.6678\n",
      "Epoch 12/100\n",
      "95000/95000 [==============================] - 3s 31us/step - loss: 1.1040 - acc: 0.6792 - val_loss: 1.1569 - val_acc: 0.6700\n",
      "Epoch 13/100\n",
      "95000/95000 [==============================] - 3s 31us/step - loss: 1.0941 - acc: 0.6813 - val_loss: 1.1465 - val_acc: 0.6700\n",
      "Epoch 14/100\n",
      "95000/95000 [==============================] - 3s 32us/step - loss: 1.0815 - acc: 0.6850 - val_loss: 1.1356 - val_acc: 0.6704\n",
      "Epoch 15/100\n",
      "95000/95000 [==============================] - 3s 32us/step - loss: 1.0726 - acc: 0.6878 - val_loss: 1.1197 - val_acc: 0.6742\n",
      "Epoch 16/100\n",
      "95000/95000 [==============================] - 3s 32us/step - loss: 1.0586 - acc: 0.6914 - val_loss: 1.1099 - val_acc: 0.6792\n",
      "Epoch 17/100\n",
      "95000/95000 [==============================] - 3s 32us/step - loss: 1.0492 - acc: 0.6928 - val_loss: 1.0920 - val_acc: 0.6826\n",
      "Epoch 18/100\n",
      "95000/95000 [==============================] - 3s 31us/step - loss: 1.0364 - acc: 0.6973 - val_loss: 1.0882 - val_acc: 0.6812\n",
      "Epoch 19/100\n",
      "95000/95000 [==============================] - 3s 32us/step - loss: 1.0212 - acc: 0.7017 - val_loss: 1.0729 - val_acc: 0.6890\n",
      "Epoch 20/100\n",
      "95000/95000 [==============================] - 3s 32us/step - loss: 1.0053 - acc: 0.7071 - val_loss: 1.1151 - val_acc: 0.6722\n",
      "Epoch 21/100\n",
      "95000/95000 [==============================] - 3s 32us/step - loss: 0.9904 - acc: 0.7105 - val_loss: 1.0424 - val_acc: 0.7024\n",
      "Epoch 22/100\n",
      "95000/95000 [==============================] - 3s 32us/step - loss: 0.9728 - acc: 0.7152 - val_loss: 1.0198 - val_acc: 0.7038\n",
      "Epoch 23/100\n",
      "95000/95000 [==============================] - 3s 31us/step - loss: 0.9557 - acc: 0.7204 - val_loss: 0.9997 - val_acc: 0.7090\n",
      "Epoch 24/100\n",
      "95000/95000 [==============================] - 3s 32us/step - loss: 0.9398 - acc: 0.7253 - val_loss: 1.0025 - val_acc: 0.7090\n",
      "Epoch 25/100\n",
      "95000/95000 [==============================] - 3s 31us/step - loss: 0.9232 - acc: 0.7288 - val_loss: 0.9799 - val_acc: 0.7144\n",
      "Epoch 26/100\n",
      "95000/95000 [==============================] - 3s 31us/step - loss: 0.9090 - acc: 0.7333 - val_loss: 0.9756 - val_acc: 0.7178\n",
      "Epoch 27/100\n",
      "95000/95000 [==============================] - 3s 31us/step - loss: 0.8948 - acc: 0.7373 - val_loss: 0.9414 - val_acc: 0.7254\n",
      "Epoch 28/100\n",
      "95000/95000 [==============================] - 3s 32us/step - loss: 0.8780 - acc: 0.7417 - val_loss: 0.9340 - val_acc: 0.7270\n",
      "Epoch 29/100\n",
      "95000/95000 [==============================] - 3s 32us/step - loss: 0.8645 - acc: 0.7455 - val_loss: 0.9226 - val_acc: 0.7298\n",
      "Epoch 30/100\n",
      "95000/95000 [==============================] - 3s 31us/step - loss: 0.8529 - acc: 0.7502 - val_loss: 0.8945 - val_acc: 0.7338\n",
      "Epoch 31/100\n",
      "95000/95000 [==============================] - 3s 31us/step - loss: 0.8411 - acc: 0.7522 - val_loss: 0.8838 - val_acc: 0.7372\n",
      "Epoch 32/100\n",
      "95000/95000 [==============================] - 3s 31us/step - loss: 0.8255 - acc: 0.7578 - val_loss: 0.9043 - val_acc: 0.7374\n",
      "Epoch 33/100\n",
      "95000/95000 [==============================] - 3s 32us/step - loss: 0.8117 - acc: 0.7616 - val_loss: 0.8587 - val_acc: 0.7460\n",
      "Epoch 34/100\n",
      "95000/95000 [==============================] - 3s 32us/step - loss: 0.7986 - acc: 0.7653 - val_loss: 0.8482 - val_acc: 0.7500\n",
      "Epoch 35/100\n",
      "95000/95000 [==============================] - 3s 32us/step - loss: 0.7860 - acc: 0.7697 - val_loss: 0.8590 - val_acc: 0.7492\n",
      "Epoch 36/100\n",
      "95000/95000 [==============================] - 3s 32us/step - loss: 0.7731 - acc: 0.7735 - val_loss: 0.8214 - val_acc: 0.7528\n",
      "Epoch 37/100\n",
      "95000/95000 [==============================] - 3s 31us/step - loss: 0.7594 - acc: 0.7780 - val_loss: 0.8227 - val_acc: 0.7576\n",
      "Epoch 38/100\n",
      "95000/95000 [==============================] - 3s 32us/step - loss: 0.7485 - acc: 0.7805 - val_loss: 0.7947 - val_acc: 0.7676\n",
      "Epoch 39/100\n",
      "95000/95000 [==============================] - 3s 32us/step - loss: 0.7331 - acc: 0.7847 - val_loss: 0.7822 - val_acc: 0.7678\n",
      "Epoch 40/100\n",
      "95000/95000 [==============================] - 3s 31us/step - loss: 0.7205 - acc: 0.7894 - val_loss: 0.7797 - val_acc: 0.7708\n",
      "Epoch 41/100\n",
      "95000/95000 [==============================] - 3s 32us/step - loss: 0.7082 - acc: 0.7927 - val_loss: 0.7758 - val_acc: 0.7778\n",
      "Epoch 42/100\n",
      "95000/95000 [==============================] - 3s 32us/step - loss: 0.6987 - acc: 0.7947 - val_loss: 0.7709 - val_acc: 0.7742\n",
      "Epoch 43/100\n",
      "95000/95000 [==============================] - 3s 31us/step - loss: 0.6861 - acc: 0.7991 - val_loss: 0.7839 - val_acc: 0.7684\n",
      "Epoch 44/100\n",
      "95000/95000 [==============================] - 3s 32us/step - loss: 0.6782 - acc: 0.8014 - val_loss: 0.7284 - val_acc: 0.7900\n",
      "Epoch 45/100\n",
      "95000/95000 [==============================] - 3s 32us/step - loss: 0.6640 - acc: 0.8064 - val_loss: 0.7461 - val_acc: 0.7806\n",
      "Epoch 46/100\n",
      "95000/95000 [==============================] - 3s 31us/step - loss: 0.6550 - acc: 0.8087 - val_loss: 0.7131 - val_acc: 0.7930\n",
      "Epoch 47/100\n",
      "95000/95000 [==============================] - 3s 31us/step - loss: 0.6483 - acc: 0.8109 - val_loss: 0.7594 - val_acc: 0.7736\n",
      "Epoch 48/100\n",
      "95000/95000 [==============================] - 3s 31us/step - loss: 0.6398 - acc: 0.8129 - val_loss: 0.7004 - val_acc: 0.7898\n",
      "Epoch 49/100\n",
      "95000/95000 [==============================] - 3s 31us/step - loss: 0.6287 - acc: 0.8166 - val_loss: 0.6874 - val_acc: 0.7998\n",
      "Epoch 50/100\n",
      "95000/95000 [==============================] - 3s 31us/step - loss: 0.6206 - acc: 0.8197 - val_loss: 0.6890 - val_acc: 0.7934\n",
      "Epoch 51/100\n",
      "95000/95000 [==============================] - 3s 31us/step - loss: 0.6123 - acc: 0.8221 - val_loss: 0.6769 - val_acc: 0.8028\n",
      "Epoch 52/100\n",
      "95000/95000 [==============================] - 3s 32us/step - loss: 0.6070 - acc: 0.8232 - val_loss: 0.6669 - val_acc: 0.8062\n",
      "Epoch 53/100\n",
      "95000/95000 [==============================] - 3s 31us/step - loss: 0.5958 - acc: 0.8261 - val_loss: 0.6653 - val_acc: 0.8040\n",
      "Epoch 54/100\n",
      "95000/95000 [==============================] - 3s 32us/step - loss: 0.5925 - acc: 0.8275 - val_loss: 0.6912 - val_acc: 0.7976\n",
      "Epoch 55/100\n",
      "95000/95000 [==============================] - 3s 32us/step - loss: 0.5860 - acc: 0.8292 - val_loss: 0.7228 - val_acc: 0.7854\n",
      "Epoch 56/100\n",
      "95000/95000 [==============================] - 3s 32us/step - loss: 0.5809 - acc: 0.8309 - val_loss: 0.6696 - val_acc: 0.8000\n",
      "Epoch 57/100\n",
      "95000/95000 [==============================] - 3s 31us/step - loss: 0.5734 - acc: 0.8332 - val_loss: 0.6386 - val_acc: 0.8138\n",
      "Epoch 58/100\n",
      "95000/95000 [==============================] - 3s 32us/step - loss: 0.5668 - acc: 0.8354 - val_loss: 0.7336 - val_acc: 0.7840\n",
      "Epoch 59/100\n"
     ]
    },
    {
     "name": "stdout",
     "output_type": "stream",
     "text": [
      "95000/95000 [==============================] - 3s 31us/step - loss: 0.5601 - acc: 0.8369 - val_loss: 0.6335 - val_acc: 0.8134\n",
      "Epoch 60/100\n",
      "95000/95000 [==============================] - 3s 32us/step - loss: 0.5557 - acc: 0.8383 - val_loss: 0.6597 - val_acc: 0.8042\n",
      "Epoch 61/100\n",
      "95000/95000 [==============================] - 3s 32us/step - loss: 0.5528 - acc: 0.8391 - val_loss: 0.6327 - val_acc: 0.8100\n",
      "Epoch 62/100\n",
      "95000/95000 [==============================] - 3s 31us/step - loss: 0.5487 - acc: 0.8399 - val_loss: 0.6321 - val_acc: 0.8136\n",
      "Epoch 63/100\n",
      "95000/95000 [==============================] - 3s 32us/step - loss: 0.5435 - acc: 0.8416 - val_loss: 0.6180 - val_acc: 0.8178\n",
      "Epoch 64/100\n",
      "95000/95000 [==============================] - 3s 31us/step - loss: 0.5378 - acc: 0.8439 - val_loss: 0.6154 - val_acc: 0.8150\n",
      "Epoch 65/100\n",
      "95000/95000 [==============================] - 3s 32us/step - loss: 0.5330 - acc: 0.8456 - val_loss: 0.6526 - val_acc: 0.8038\n",
      "Epoch 66/100\n",
      "95000/95000 [==============================] - 3s 32us/step - loss: 0.5313 - acc: 0.8449 - val_loss: 0.6622 - val_acc: 0.8060\n",
      "Epoch 67/100\n",
      "95000/95000 [==============================] - 3s 31us/step - loss: 0.5230 - acc: 0.8477 - val_loss: 0.6146 - val_acc: 0.8138\n",
      "Epoch 68/100\n",
      "95000/95000 [==============================] - 3s 32us/step - loss: 0.5201 - acc: 0.8486 - val_loss: 0.6034 - val_acc: 0.8154\n",
      "Epoch 69/100\n",
      "95000/95000 [==============================] - 3s 32us/step - loss: 0.5178 - acc: 0.8496 - val_loss: 0.6327 - val_acc: 0.8100\n",
      "Epoch 70/100\n",
      "95000/95000 [==============================] - 3s 32us/step - loss: 0.5136 - acc: 0.8508 - val_loss: 0.5960 - val_acc: 0.8204\n",
      "Epoch 71/100\n",
      "95000/95000 [==============================] - 3s 32us/step - loss: 0.5097 - acc: 0.8513 - val_loss: 0.6209 - val_acc: 0.8114\n",
      "Epoch 72/100\n",
      "95000/95000 [==============================] - 3s 32us/step - loss: 0.5041 - acc: 0.8530 - val_loss: 0.6001 - val_acc: 0.8180\n",
      "Epoch 73/100\n",
      "95000/95000 [==============================] - 3s 31us/step - loss: 0.5012 - acc: 0.8537 - val_loss: 0.5897 - val_acc: 0.8232\n",
      "Epoch 74/100\n",
      "95000/95000 [==============================] - 3s 31us/step - loss: 0.4976 - acc: 0.8558 - val_loss: 0.5896 - val_acc: 0.8174\n",
      "Epoch 75/100\n",
      "95000/95000 [==============================] - 3s 31us/step - loss: 0.4965 - acc: 0.8556 - val_loss: 0.5966 - val_acc: 0.8196\n",
      "Epoch 76/100\n",
      "95000/95000 [==============================] - 3s 31us/step - loss: 0.4946 - acc: 0.8559 - val_loss: 0.6641 - val_acc: 0.7982\n",
      "Epoch 77/100\n",
      "95000/95000 [==============================] - 3s 31us/step - loss: 0.4925 - acc: 0.8569 - val_loss: 0.6090 - val_acc: 0.8176\n",
      "Epoch 78/100\n",
      "95000/95000 [==============================] - 3s 31us/step - loss: 0.4857 - acc: 0.8593 - val_loss: 0.5780 - val_acc: 0.8256\n",
      "Epoch 79/100\n",
      "95000/95000 [==============================] - 3s 31us/step - loss: 0.4835 - acc: 0.8593 - val_loss: 0.5793 - val_acc: 0.8248\n",
      "Epoch 80/100\n",
      "95000/95000 [==============================] - 3s 31us/step - loss: 0.4805 - acc: 0.8603 - val_loss: 0.6259 - val_acc: 0.8092\n",
      "Epoch 81/100\n",
      "95000/95000 [==============================] - 3s 31us/step - loss: 0.4778 - acc: 0.8601 - val_loss: 0.5980 - val_acc: 0.8216\n",
      "Epoch 82/100\n",
      "95000/95000 [==============================] - 3s 31us/step - loss: 0.4764 - acc: 0.8608 - val_loss: 0.5741 - val_acc: 0.8300\n",
      "Epoch 83/100\n",
      "95000/95000 [==============================] - 3s 31us/step - loss: 0.4755 - acc: 0.8618 - val_loss: 0.6501 - val_acc: 0.8098\n",
      "Epoch 84/100\n",
      "95000/95000 [==============================] - 3s 31us/step - loss: 0.4671 - acc: 0.8641 - val_loss: 0.6031 - val_acc: 0.8190\n",
      "Epoch 85/100\n",
      "95000/95000 [==============================] - 3s 31us/step - loss: 0.4629 - acc: 0.8647 - val_loss: 0.5931 - val_acc: 0.8202\n",
      "Epoch 86/100\n",
      "95000/95000 [==============================] - 3s 31us/step - loss: 0.4631 - acc: 0.8647 - val_loss: 0.5980 - val_acc: 0.8208\n",
      "Epoch 87/100\n",
      "95000/95000 [==============================] - 3s 31us/step - loss: 0.4608 - acc: 0.8660 - val_loss: 0.5790 - val_acc: 0.8240\n",
      "Epoch 88/100\n",
      "95000/95000 [==============================] - 3s 31us/step - loss: 0.4570 - acc: 0.8671 - val_loss: 0.5707 - val_acc: 0.8294\n",
      "Epoch 89/100\n",
      "95000/95000 [==============================] - 3s 32us/step - loss: 0.4544 - acc: 0.8675 - val_loss: 0.5705 - val_acc: 0.8256\n",
      "Epoch 90/100\n",
      "95000/95000 [==============================] - 3s 32us/step - loss: 0.4556 - acc: 0.8668 - val_loss: 0.5641 - val_acc: 0.8300\n",
      "Epoch 91/100\n",
      "95000/95000 [==============================] - 3s 31us/step - loss: 0.4512 - acc: 0.8688 - val_loss: 0.5616 - val_acc: 0.8318\n",
      "Epoch 92/100\n",
      "95000/95000 [==============================] - 3s 31us/step - loss: 0.4467 - acc: 0.8702 - val_loss: 0.5678 - val_acc: 0.8278\n",
      "Epoch 93/100\n",
      "95000/95000 [==============================] - 3s 31us/step - loss: 0.4455 - acc: 0.8703 - val_loss: 0.5823 - val_acc: 0.8200\n",
      "Epoch 94/100\n",
      "95000/95000 [==============================] - 3s 32us/step - loss: 0.4459 - acc: 0.8690 - val_loss: 0.5716 - val_acc: 0.8242\n",
      "Epoch 95/100\n",
      "95000/95000 [==============================] - 3s 31us/step - loss: 0.4402 - acc: 0.8722 - val_loss: 0.5556 - val_acc: 0.8348\n",
      "Epoch 96/100\n",
      "95000/95000 [==============================] - 3s 31us/step - loss: 0.4379 - acc: 0.8720 - val_loss: 0.5816 - val_acc: 0.8254\n",
      "Epoch 97/100\n",
      "95000/95000 [==============================] - 3s 31us/step - loss: 0.4352 - acc: 0.8736 - val_loss: 0.5742 - val_acc: 0.8244\n",
      "Epoch 98/100\n",
      "95000/95000 [==============================] - 3s 32us/step - loss: 0.4351 - acc: 0.8735 - val_loss: 0.6204 - val_acc: 0.8154\n",
      "Epoch 99/100\n",
      "95000/95000 [==============================] - 3s 31us/step - loss: 0.4336 - acc: 0.8735 - val_loss: 0.5660 - val_acc: 0.8290\n",
      "Epoch 100/100\n",
      "95000/95000 [==============================] - 3s 31us/step - loss: 0.4286 - acc: 0.8750 - val_loss: 0.5666 - val_acc: 0.8290\n"
     ]
    }
   ],
   "source": [
    "batch_size = 256\n",
    "epochs = 100\n",
    "model.compile(optimizer='adam', loss='categorical_crossentropy', metrics=['accuracy'])\n",
    "history = model.fit(x_train, y_train, batch_size=batch_size, epochs=epochs, verbose=1,validation_split=0.05)\n",
    "# model1.evaluate(test_data, test_labels_one_hot)"
   ]
  },
  {
   "cell_type": "code",
   "execution_count": 15,
   "metadata": {},
   "outputs": [],
   "source": [
    "def label_to_string(label):\n",
    "    lis=[]\n",
    "    instances=label.shape[0]\n",
    "    for i in range(instances):\n",
    "        lis.append(int_to_string[label[i]])\n",
    "    return lis"
   ]
  },
  {
   "cell_type": "code",
   "execution_count": null,
   "metadata": {},
   "outputs": [],
   "source": []
  },
  {
   "cell_type": "code",
   "execution_count": 10,
   "metadata": {},
   "outputs": [
    {
     "name": "stdout",
     "output_type": "stream",
     "text": [
      "(100000,)\n",
      "(100000,)\n"
     ]
    }
   ],
   "source": [
    "predictions=np.argmax(model.predict(test_x),axis=1)\n",
    "print(predictions.shape)\n",
    "predictions=label_to_string(predictions)\n",
    "predictions=np.asarray(predictions)\n",
    "print(predictions.shape)"
   ]
  },
  {
   "cell_type": "code",
   "execution_count": 11,
   "metadata": {},
   "outputs": [],
   "source": [
    "df=pd.DataFrame(data=predictions,columns=['CATEGORY'])\n",
    "df.index.name='ID'\n",
    "df.to_csv(path_or_buf=\"ignore/CNN_sub.csv\",sep=',')"
   ]
  },
  {
   "cell_type": "code",
   "execution_count": null,
   "metadata": {},
   "outputs": [],
   "source": []
  }
 ],
 "metadata": {
  "kernelspec": {
   "display_name": "Python 3",
   "language": "python",
   "name": "python3"
  },
  "language_info": {
   "codemirror_mode": {
    "name": "ipython",
    "version": 3
   },
   "file_extension": ".py",
   "mimetype": "text/x-python",
   "name": "python",
   "nbconvert_exporter": "python",
   "pygments_lexer": "ipython3",
   "version": "3.5.2"
  }
 },
 "nbformat": 4,
 "nbformat_minor": 2
}
