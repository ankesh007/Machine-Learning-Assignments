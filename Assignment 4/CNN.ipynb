{
 "cells": [
  {
   "cell_type": "code",
   "execution_count": 25,
   "metadata": {
    "scrolled": true
   },
   "outputs": [],
   "source": [
    "import os\n",
    "import numpy as np\n",
    "import pandas as pd\n",
    "from keras.models import Sequential\n",
    "from keras.layers import Dense, Conv2D, MaxPooling2D, Dropout, Flatten\n",
    "from keras import utils as np_utils"
   ]
  },
  {
   "cell_type": "code",
   "execution_count": 26,
   "metadata": {},
   "outputs": [],
   "source": [
    "train_data_folder='Dataset/train/'\n",
    "test_data_folder='Dataset/test/'\n",
    "train_files=os.listdir(train_data_folder)"
   ]
  },
  {
   "cell_type": "code",
   "execution_count": 27,
   "metadata": {},
   "outputs": [
    {
     "name": "stdout",
     "output_type": "stream",
     "text": [
      "(100000, 785)\n",
      "{'hat': 4, 'chair': 6, 'foot': 19, 'bulldozer': 12, 'penguin': 13, 'trombone': 16, 'hand': 17, 'spider': 11, 'pig': 15, 'harp': 14, 'violin': 7, 'parrot': 8, 'laptop': 18, 'keyboard': 3, 'skyscraper': 0, 'snowman': 10, 'banana': 2, 'flashlight': 9, 'eyeglasses': 5, 'nose': 1}\n",
      "{0: 'skyscraper', 1: 'nose', 2: 'banana', 3: 'keyboard', 4: 'hat', 5: 'eyeglasses', 6: 'chair', 7: 'violin', 8: 'parrot', 9: 'flashlight', 10: 'snowman', 11: 'spider', 12: 'bulldozer', 13: 'penguin', 14: 'harp', 15: 'pig', 16: 'trombone', 17: 'hand', 18: 'laptop', 19: 'foot'}\n"
     ]
    }
   ],
   "source": [
    "complete_data=None\n",
    "string_to_int={}\n",
    "int_to_string={}\n",
    "counter=0\n",
    "\n",
    "def fill_data(filename):\n",
    "    data=np.load(file=train_data_folder+filename)\n",
    "    filename=filename.split('.')[0]\n",
    "    temp_var=-1\n",
    "    \n",
    "    global counter\n",
    "    global complete_data\n",
    "    global string_to_int\n",
    "    global int_to_string\n",
    "    \n",
    "    if filename in string_to_int:\n",
    "        temp_var=string_to_int[filename]\n",
    "    \n",
    "    else:\n",
    "        temp_var=counter\n",
    "        counter+=1\n",
    "        string_to_int[filename]=temp_var\n",
    "        int_to_string[temp_var]=filename\n",
    "    \n",
    "    dimension=data.shape\n",
    "    temp_y=np.ones(shape=(dimension[0],1),dtype=np.float64)*temp_var\n",
    "    data=np.concatenate((data,temp_y),axis=1)\n",
    "    \n",
    "    if complete_data is None:\n",
    "        complete_data=np.copy(data)\n",
    "    \n",
    "    else:\n",
    "        complete_data=np.concatenate((complete_data,data),axis=0)\n",
    "    \n",
    "\n",
    "for filename in train_files:\n",
    "    fill_data(filename)\n",
    "\n",
    "print(complete_data.shape)\n",
    "print(string_to_int)\n",
    "print(int_to_string)    "
   ]
  },
  {
   "cell_type": "code",
   "execution_count": 51,
   "metadata": {},
   "outputs": [
    {
     "name": "stdout",
     "output_type": "stream",
     "text": [
      "(100000, 785)\n"
     ]
    }
   ],
   "source": [
    "complete_data=np.random.permutation(complete_data)\n",
    "print(complete_data.shape)"
   ]
  },
  {
   "cell_type": "code",
   "execution_count": 52,
   "metadata": {},
   "outputs": [
    {
     "name": "stdout",
     "output_type": "stream",
     "text": [
      "(100000, 784)\n",
      "(100000, 20)\n",
      "(100000, 1)\n",
      "(100000, 784)\n"
     ]
    }
   ],
   "source": [
    "[instances,dimensions]=complete_data.shape\n",
    "\n",
    "x_train=complete_data[:,0:dimensions-1].astype(np.float32)\n",
    "test_x=np.load(file=\"Dataset/test/test.npy\").astype(np.float32)\n",
    "y_train2=complete_data[:,dimensions-1:].astype(np.int32)\n",
    "y_train = np_utils.to_categorical(y_train2)\n",
    "print(x_train.shape)\n",
    "print(y_train.shape)\n",
    "print(y_train2.shape)\n",
    "print(test_x.shape)\n",
    "categories=20"
   ]
  },
  {
   "cell_type": "code",
   "execution_count": 53,
   "metadata": {},
   "outputs": [],
   "source": [
    "# param=1000\n",
    "# x_train=x_train[0:param,:]\n",
    "# y_train=y_train[0:param]\n",
    "# y_train.shape\n",
    "x_train/=255.0\n",
    "test_x/=255.0\n",
    "x_train=x_train.reshape((100000,28,28,1))\n",
    "test_x=test_x.reshape((100000,28,28,1))"
   ]
  },
  {
   "cell_type": "code",
   "execution_count": 59,
   "metadata": {},
   "outputs": [],
   "source": [
    "model = Sequential()\n",
    "model.add(Conv2D(32, (3, 3), padding='same', activation='relu', input_shape=(28,28,1)))\n",
    "model.add(MaxPooling2D(pool_size=(2, 2)))\n",
    "model.add(Dropout(0.5))\n",
    "model.add(Conv2D(32, (3, 3), padding='same', activation='relu', input_shape=(28,28,1)))\n",
    "model.add(Dropout(0.45))\n",
    "model.add(Conv2D(32, (3, 3), padding='same', activation='relu', input_shape=(28,28,1)))\n",
    "model.add(Dropout(0.4))\n",
    "model.add(Flatten())\n",
    "model.add(Dense(128, activation='relu'))\n",
    "model.add(Dropout(0.25))\n",
    "model.add(Dense(categories, activation='softmax'))"
   ]
  },
  {
   "cell_type": "code",
   "execution_count": null,
   "metadata": {},
   "outputs": [
    {
     "name": "stdout",
     "output_type": "stream",
     "text": [
      "Train on 95000 samples, validate on 5000 samples\n",
      "Epoch 1/100\n",
      "95000/95000 [==============================] - 5s 56us/step - loss: 0.3160 - acc: 0.8976 - val_loss: 0.3261 - val_acc: 0.9092\n",
      "Epoch 2/100\n",
      "95000/95000 [==============================] - 5s 52us/step - loss: 0.3135 - acc: 0.8979 - val_loss: 0.3307 - val_acc: 0.9074\n",
      "Epoch 3/100\n",
      "95000/95000 [==============================] - 5s 51us/step - loss: 0.3140 - acc: 0.8981 - val_loss: 0.3323 - val_acc: 0.9068\n",
      "Epoch 4/100\n",
      "95000/95000 [==============================] - 5s 51us/step - loss: 0.3116 - acc: 0.8987 - val_loss: 0.3371 - val_acc: 0.9068\n",
      "Epoch 5/100\n",
      "95000/95000 [==============================] - 5s 51us/step - loss: 0.3105 - acc: 0.8981 - val_loss: 0.3347 - val_acc: 0.9076\n",
      "Epoch 6/100\n",
      "95000/95000 [==============================] - 5s 51us/step - loss: 0.3123 - acc: 0.8983 - val_loss: 0.3192 - val_acc: 0.9090\n",
      "Epoch 7/100\n",
      "95000/95000 [==============================] - 5s 51us/step - loss: 0.3096 - acc: 0.8991 - val_loss: 0.3234 - val_acc: 0.9076\n",
      "Epoch 8/100\n",
      "95000/95000 [==============================] - 5s 51us/step - loss: 0.3066 - acc: 0.9003 - val_loss: 0.3309 - val_acc: 0.9070\n",
      "Epoch 9/100\n",
      "95000/95000 [==============================] - 5s 51us/step - loss: 0.3069 - acc: 0.9002 - val_loss: 0.3235 - val_acc: 0.9104\n",
      "Epoch 10/100\n",
      "95000/95000 [==============================] - 5s 53us/step - loss: 0.3051 - acc: 0.9000 - val_loss: 0.3578 - val_acc: 0.9032\n",
      "Epoch 11/100\n",
      "95000/95000 [==============================] - 5s 52us/step - loss: 0.3040 - acc: 0.9016 - val_loss: 0.3226 - val_acc: 0.9088\n",
      "Epoch 12/100\n",
      "95000/95000 [==============================] - 5s 52us/step - loss: 0.3060 - acc: 0.9005 - val_loss: 0.3308 - val_acc: 0.9024\n",
      "Epoch 13/100\n",
      "95000/95000 [==============================] - 5s 52us/step - loss: 0.2999 - acc: 0.9016 - val_loss: 0.3362 - val_acc: 0.9062\n",
      "Epoch 14/100\n",
      "95000/95000 [==============================] - 5s 52us/step - loss: 0.3008 - acc: 0.9021 - val_loss: 0.3259 - val_acc: 0.9116\n",
      "Epoch 15/100\n",
      "95000/95000 [==============================] - 5s 52us/step - loss: 0.2973 - acc: 0.9024 - val_loss: 0.3250 - val_acc: 0.9110\n",
      "Epoch 16/100\n",
      "95000/95000 [==============================] - 5s 52us/step - loss: 0.2970 - acc: 0.9027 - val_loss: 0.3263 - val_acc: 0.9108\n",
      "Epoch 17/100\n",
      "95000/95000 [==============================] - 5s 52us/step - loss: 0.2986 - acc: 0.9019 - val_loss: 0.3294 - val_acc: 0.9110\n",
      "Epoch 18/100\n",
      "95000/95000 [==============================] - 5s 51us/step - loss: 0.2979 - acc: 0.9023 - val_loss: 0.3474 - val_acc: 0.9078\n",
      "Epoch 19/100\n",
      "65792/95000 [===================>..........] - ETA: 1s - loss: 0.2995 - acc: 0.9023"
     ]
    }
   ],
   "source": [
    "batch_size = 256\n",
    "epochs = 100\n",
    "model.compile(optimizer='adam', loss='categorical_crossentropy', metrics=['accuracy'])\n",
    "history = model.fit(x_train, y_train, batch_size=batch_size, epochs=epochs, verbose=1,validation_split=0.05)\n",
    "# model1.evaluate(test_data, test_labels_one_hot)"
   ]
  },
  {
   "cell_type": "code",
   "execution_count": null,
   "metadata": {},
   "outputs": [],
   "source": [
    "def label_to_string(label):\n",
    "    lis=[]\n",
    "    instances=label.shape[0]\n",
    "    for i in range(instances):\n",
    "        lis.append(int_to_string[label[i]])\n",
    "    return lis"
   ]
  },
  {
   "cell_type": "code",
   "execution_count": null,
   "metadata": {},
   "outputs": [],
   "source": []
  },
  {
   "cell_type": "code",
   "execution_count": null,
   "metadata": {},
   "outputs": [],
   "source": [
    "predictions=np.argmax(model.predict(test_x),axis=1)\n",
    "print(predictions.shape)\n",
    "predictions=label_to_string(predictions)\n",
    "predictions=np.asarray(predictions)\n",
    "print(predictions.shape)"
   ]
  },
  {
   "cell_type": "code",
   "execution_count": null,
   "metadata": {},
   "outputs": [],
   "source": [
    "df=pd.DataFrame(data=predictions,columns=['CATEGORY'])\n",
    "df.index.name='ID'\n",
    "df.to_csv(path_or_buf=\"ignore/CNN_sub.csv\",sep=',')"
   ]
  },
  {
   "cell_type": "code",
   "execution_count": null,
   "metadata": {},
   "outputs": [],
   "source": []
  }
 ],
 "metadata": {
  "kernelspec": {
   "display_name": "Python 3",
   "language": "python",
   "name": "python3"
  },
  "language_info": {
   "codemirror_mode": {
    "name": "ipython",
    "version": 3
   },
   "file_extension": ".py",
   "mimetype": "text/x-python",
   "name": "python",
   "nbconvert_exporter": "python",
   "pygments_lexer": "ipython3",
   "version": "3.5.2"
  }
 },
 "nbformat": 4,
 "nbformat_minor": 2
}
