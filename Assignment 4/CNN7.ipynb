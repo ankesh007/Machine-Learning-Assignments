{
 "cells": [
  {
   "cell_type": "code",
   "execution_count": 25,
   "metadata": {
    "scrolled": true
   },
   "outputs": [],
   "source": [
    "import os\n",
    "import numpy as np\n",
    "import pandas as pd\n",
    "from keras.models import Sequential\n",
    "from keras.layers import Dense, Conv2D, MaxPooling2D, Dropout, Flatten, BatchNormalization\n",
    "from keras import utils as np_utils\n",
    "from keras import preprocessing"
   ]
  },
  {
   "cell_type": "code",
   "execution_count": 26,
   "metadata": {},
   "outputs": [],
   "source": [
    "train_data_folder='Dataset/train/'\n",
    "test_data_folder='Dataset/test/'\n",
    "train_files=os.listdir(train_data_folder)"
   ]
  },
  {
   "cell_type": "code",
   "execution_count": 27,
   "metadata": {},
   "outputs": [
    {
     "name": "stdout",
     "output_type": "stream",
     "text": [
      "(100000, 785)\n",
      "{'penguin': 13, 'keyboard': 3, 'flashlight': 9, 'trombone': 16, 'skyscraper': 0, 'nose': 1, 'parrot': 8, 'bulldozer': 12, 'spider': 11, 'snowman': 10, 'hat': 4, 'eyeglasses': 5, 'violin': 7, 'hand': 17, 'pig': 15, 'chair': 6, 'harp': 14, 'laptop': 18, 'banana': 2, 'foot': 19}\n",
      "{0: 'skyscraper', 1: 'nose', 2: 'banana', 3: 'keyboard', 4: 'hat', 5: 'eyeglasses', 6: 'chair', 7: 'violin', 8: 'parrot', 9: 'flashlight', 10: 'snowman', 11: 'spider', 12: 'bulldozer', 13: 'penguin', 14: 'harp', 15: 'pig', 16: 'trombone', 17: 'hand', 18: 'laptop', 19: 'foot'}\n"
     ]
    }
   ],
   "source": [
    "complete_data=None\n",
    "string_to_int={}\n",
    "int_to_string={}\n",
    "counter=0\n",
    "\n",
    "def fill_data(filename):\n",
    "    data=np.load(file=train_data_folder+filename)\n",
    "    filename=filename.split('.')[0]\n",
    "    temp_var=-1\n",
    "    \n",
    "    global counter\n",
    "    global complete_data\n",
    "    global string_to_int\n",
    "    global int_to_string\n",
    "    \n",
    "    if filename in string_to_int:\n",
    "        temp_var=string_to_int[filename]\n",
    "    \n",
    "    else:\n",
    "        temp_var=counter\n",
    "        counter+=1\n",
    "        string_to_int[filename]=temp_var\n",
    "        int_to_string[temp_var]=filename\n",
    "    \n",
    "    dimension=data.shape\n",
    "    temp_y=np.ones(shape=(dimension[0],1),dtype=np.float64)*temp_var\n",
    "    data=np.concatenate((data,temp_y),axis=1)\n",
    "    \n",
    "    if complete_data is None:\n",
    "        complete_data=np.copy(data)\n",
    "    \n",
    "    else:\n",
    "        complete_data=np.concatenate((complete_data,data),axis=0)\n",
    "    \n",
    "\n",
    "for filename in train_files:\n",
    "    fill_data(filename)\n",
    "\n",
    "print(complete_data.shape)\n",
    "print(string_to_int)\n",
    "print(int_to_string)    "
   ]
  },
  {
   "cell_type": "code",
   "execution_count": 28,
   "metadata": {},
   "outputs": [
    {
     "name": "stdout",
     "output_type": "stream",
     "text": [
      "(100000, 785)\n"
     ]
    }
   ],
   "source": [
    "complete_data=np.random.permutation(complete_data)\n",
    "print(complete_data.shape)"
   ]
  },
  {
   "cell_type": "code",
   "execution_count": 29,
   "metadata": {},
   "outputs": [
    {
     "name": "stdout",
     "output_type": "stream",
     "text": [
      "(100000, 784)\n",
      "(100000, 20)\n",
      "(100000, 1)\n",
      "(100000, 784)\n"
     ]
    }
   ],
   "source": [
    "[instances,dimensions]=complete_data.shape\n",
    "\n",
    "x_train=complete_data[:,0:dimensions-1].astype(np.float32)\n",
    "test_x=np.load(file=\"Dataset/test/test.npy\").astype(np.float32)\n",
    "y_train2=complete_data[:,dimensions-1:].astype(np.int32)\n",
    "y_train = np_utils.to_categorical(y_train2)\n",
    "print(x_train.shape)\n",
    "print(y_train.shape)\n",
    "print(y_train2.shape)\n",
    "print(test_x.shape)\n",
    "categories=20"
   ]
  },
  {
   "cell_type": "code",
   "execution_count": 30,
   "metadata": {},
   "outputs": [],
   "source": [
    "# param=1000\n",
    "# x_train=x_train[0:param,:]\n",
    "# y_train=y_train[0:param]\n",
    "# y_train.shape\n",
    "x_train/=255.0\n",
    "test_x/=255.0\n",
    "x_train=x_train.reshape((100000,28,28,1))\n",
    "test_x=test_x.reshape((100000,28,28,1))"
   ]
  },
  {
   "cell_type": "code",
   "execution_count": 31,
   "metadata": {},
   "outputs": [],
   "source": [
    "model = Sequential()\n",
    "model.add(Conv2D(32, (5, 5), padding='same', activation='relu', input_shape=(28,28,1)))\n",
    "model.add(Conv2D(32, (3, 3), padding='same', activation='relu'))\n",
    "model.add(BatchNormalization())\n",
    "model.add(MaxPooling2D(pool_size=(2, 2)))\n",
    "model.add(Dropout(0.35))\n",
    "model.add(Conv2D(64, (3, 3), padding='same', activation='relu'))\n",
    "# model.add(Dropout(0.35))\n",
    "model.add(Conv2D(64, (3, 3), padding='same', activation='relu'))\n",
    "model.add(BatchNormalization())\n",
    "model.add(MaxPooling2D(pool_size=(2, 2)))\n",
    "model.add(Dropout(0.35))\n",
    "model.add(Conv2D(128, (3, 3), padding='same', activation='relu'))\n",
    "model.add(Conv2D(128, (3, 3), padding='same', activation='relu'))\n",
    "model.add(BatchNormalization())\n",
    "model.add(Dropout(0.45))\n",
    "model.add(Flatten())\n",
    "model.add(Dense(256, activation='relu'))\n",
    "model.add(Dropout(0.3))\n",
    "model.add(Dense(64, activation='relu'))\n",
    "model.add(Dropout(0.35))\n",
    "model.add(Dense(categories, activation='softmax'))"
   ]
  },
  {
   "cell_type": "code",
   "execution_count": 32,
   "metadata": {},
   "outputs": [],
   "source": [
    "datagen = preprocessing.image.ImageDataGenerator(\n",
    "    featurewise_center=True,\n",
    "    featurewise_std_normalization=True,\n",
    "    rotation_range=20,\n",
    "    width_shift_range=0.2,\n",
    "    height_shift_range=0.2,\n",
    "    horizontal_flip=True)"
   ]
  },
  {
   "cell_type": "code",
   "execution_count": 33,
   "metadata": {},
   "outputs": [],
   "source": [
    "testI=int(instances*0.8)\n",
    "x_test=x_train[testI:,:]\n",
    "y_test=y_train[testI:,:]\n",
    "x_train=x_train[:testI,:]\n",
    "y_train=y_train[:testI,:]"
   ]
  },
  {
   "cell_type": "code",
   "execution_count": null,
   "metadata": {
    "scrolled": true
   },
   "outputs": [
    {
     "name": "stdout",
     "output_type": "stream",
     "text": [
      "Epoch 1/500\n"
     ]
    },
    {
     "name": "stderr",
     "output_type": "stream",
     "text": [
      "/home/ankesh/.local/lib/python3.5/site-packages/keras/preprocessing/image.py:799: UserWarning: This ImageDataGenerator specifies `featurewise_center`, but it hasn't been fit on any training data. Fit it first by calling `.fit(numpy_data)`.\n",
      "  warnings.warn('This ImageDataGenerator specifies '\n",
      "/home/ankesh/.local/lib/python3.5/site-packages/keras/preprocessing/image.py:807: UserWarning: This ImageDataGenerator specifies `featurewise_std_normalization`, but it hasn't been fit on any training data. Fit it first by calling `.fit(numpy_data)`.\n",
      "  warnings.warn('This ImageDataGenerator specifies '\n"
     ]
    },
    {
     "name": "stdout",
     "output_type": "stream",
     "text": [
      "40/40 [==============================] - 14s 358ms/step - loss: 0.2837 - acc: 0.9188 - val_loss: 0.2736 - val_acc: 0.9239\n",
      "Epoch 2/500\n",
      "40/40 [==============================] - 13s 316ms/step - loss: 0.2782 - acc: 0.9195 - val_loss: 0.3989 - val_acc: 0.8949\n",
      "Epoch 3/500\n",
      "40/40 [==============================] - 13s 324ms/step - loss: 0.2744 - acc: 0.9201 - val_loss: 0.6289 - val_acc: 0.8587\n",
      "Epoch 4/500\n",
      "40/40 [==============================] - 13s 321ms/step - loss: 0.2690 - acc: 0.9220 - val_loss: 0.5049 - val_acc: 0.8795\n",
      "Epoch 5/500\n",
      "40/40 [==============================] - 13s 327ms/step - loss: 0.2698 - acc: 0.9224 - val_loss: 0.3017 - val_acc: 0.9200\n",
      "Epoch 6/500\n",
      "40/40 [==============================] - 13s 324ms/step - loss: 0.2724 - acc: 0.9209 - val_loss: 0.3707 - val_acc: 0.9037\n",
      "Epoch 7/500\n",
      "40/40 [==============================] - 13s 326ms/step - loss: 0.2719 - acc: 0.9224 - val_loss: 0.4303 - val_acc: 0.8936\n",
      "Epoch 8/500\n",
      "40/40 [==============================] - 13s 329ms/step - loss: 0.2704 - acc: 0.9218 - val_loss: 0.4997 - val_acc: 0.8808\n",
      "Epoch 9/500\n",
      "40/40 [==============================] - 13s 326ms/step - loss: 0.2770 - acc: 0.9201 - val_loss: 0.3447 - val_acc: 0.9104\n",
      "Epoch 10/500\n",
      "40/40 [==============================] - 13s 334ms/step - loss: 0.2705 - acc: 0.9210 - val_loss: 0.3680 - val_acc: 0.9057\n",
      "Epoch 11/500\n",
      "40/40 [==============================] - 13s 322ms/step - loss: 0.2718 - acc: 0.9208 - val_loss: 0.4961 - val_acc: 0.8802\n",
      "Epoch 12/500\n",
      "40/40 [==============================] - 13s 319ms/step - loss: 0.2776 - acc: 0.9205 - val_loss: 0.3730 - val_acc: 0.9040\n",
      "Epoch 13/500\n",
      "40/40 [==============================] - 13s 319ms/step - loss: 0.2753 - acc: 0.9201 - val_loss: 0.4376 - val_acc: 0.8912\n",
      "Epoch 14/500\n",
      "40/40 [==============================] - 13s 318ms/step - loss: 0.2726 - acc: 0.9203 - val_loss: 0.3582 - val_acc: 0.9076\n",
      "Epoch 15/500\n",
      "40/40 [==============================] - 13s 318ms/step - loss: 0.2725 - acc: 0.9217 - val_loss: 0.3309 - val_acc: 0.9135\n",
      "Epoch 16/500\n",
      "40/40 [==============================] - 13s 317ms/step - loss: 0.2707 - acc: 0.9216 - val_loss: 0.3223 - val_acc: 0.9154\n",
      "Epoch 17/500\n",
      "40/40 [==============================] - 13s 332ms/step - loss: 0.2694 - acc: 0.9219 - val_loss: 0.3861 - val_acc: 0.9027\n",
      "Epoch 18/500\n",
      "40/40 [==============================] - 13s 319ms/step - loss: 0.2731 - acc: 0.9200 - val_loss: 0.5142 - val_acc: 0.8756\n",
      "Epoch 19/500\n",
      "40/40 [==============================] - 13s 321ms/step - loss: 0.2677 - acc: 0.9220 - val_loss: 0.4487 - val_acc: 0.8910\n",
      "Epoch 20/500\n",
      "40/40 [==============================] - 13s 320ms/step - loss: 0.2747 - acc: 0.9201 - val_loss: 0.5040 - val_acc: 0.8764\n",
      "Epoch 21/500\n",
      "40/40 [==============================] - 13s 321ms/step - loss: 0.2693 - acc: 0.9214 - val_loss: 0.6715 - val_acc: 0.8462\n",
      "Epoch 22/500\n",
      "40/40 [==============================] - 13s 324ms/step - loss: 0.2685 - acc: 0.9217 - val_loss: 0.4412 - val_acc: 0.8881\n",
      "Epoch 23/500\n",
      "40/40 [==============================] - 13s 329ms/step - loss: 0.2696 - acc: 0.9208 - val_loss: 0.3264 - val_acc: 0.9125\n",
      "Epoch 24/500\n",
      "40/40 [==============================] - 13s 332ms/step - loss: 0.2663 - acc: 0.9223 - val_loss: 0.3821 - val_acc: 0.9028\n",
      "Epoch 25/500\n",
      "40/40 [==============================] - 13s 324ms/step - loss: 0.2752 - acc: 0.9205 - val_loss: 0.2774 - val_acc: 0.9235\n",
      "Epoch 26/500\n",
      "40/40 [==============================] - 13s 328ms/step - loss: 0.2705 - acc: 0.9210 - val_loss: 0.5730 - val_acc: 0.8639\n",
      "Epoch 27/500\n",
      "40/40 [==============================] - 13s 331ms/step - loss: 0.2700 - acc: 0.9203 - val_loss: 0.4048 - val_acc: 0.8975\n",
      "Epoch 28/500\n",
      "40/40 [==============================] - 13s 323ms/step - loss: 0.2730 - acc: 0.9210 - val_loss: 0.4423 - val_acc: 0.8911\n",
      "Epoch 29/500\n",
      "40/40 [==============================] - 13s 327ms/step - loss: 0.2726 - acc: 0.9204 - val_loss: 0.5677 - val_acc: 0.8651\n",
      "Epoch 30/500\n",
      "40/40 [==============================] - 13s 320ms/step - loss: 0.2675 - acc: 0.9224 - val_loss: 0.3659 - val_acc: 0.9061\n",
      "Epoch 31/500\n",
      "40/40 [==============================] - 13s 326ms/step - loss: 0.2681 - acc: 0.9221 - val_loss: 0.5467 - val_acc: 0.8698\n",
      "Epoch 32/500\n",
      "40/40 [==============================] - 13s 317ms/step - loss: 0.2687 - acc: 0.9220 - val_loss: 0.4912 - val_acc: 0.8840\n",
      "Epoch 33/500\n",
      "40/40 [==============================] - 13s 327ms/step - loss: 0.2680 - acc: 0.9213 - val_loss: 0.4142 - val_acc: 0.8973\n",
      "Epoch 34/500\n",
      "40/40 [==============================] - 13s 320ms/step - loss: 0.2709 - acc: 0.9221 - val_loss: 0.4317 - val_acc: 0.8889\n",
      "Epoch 35/500\n",
      "40/40 [==============================] - 13s 327ms/step - loss: 0.2677 - acc: 0.9218 - val_loss: 0.4752 - val_acc: 0.8829\n",
      "Epoch 36/500\n",
      "40/40 [==============================] - 13s 327ms/step - loss: 0.2685 - acc: 0.9223 - val_loss: 0.4835 - val_acc: 0.8834\n",
      "Epoch 37/500\n",
      "40/40 [==============================] - 13s 326ms/step - loss: 0.2676 - acc: 0.9235 - val_loss: 0.3011 - val_acc: 0.9197\n",
      "Epoch 38/500\n",
      "40/40 [==============================] - 13s 316ms/step - loss: 0.2649 - acc: 0.9231 - val_loss: 0.5775 - val_acc: 0.8661\n",
      "Epoch 39/500\n",
      "40/40 [==============================] - 13s 319ms/step - loss: 0.2657 - acc: 0.9225 - val_loss: 0.3352 - val_acc: 0.9127\n",
      "Epoch 40/500\n",
      "40/40 [==============================] - 13s 318ms/step - loss: 0.2674 - acc: 0.9231 - val_loss: 0.5610 - val_acc: 0.8701\n",
      "Epoch 41/500\n",
      "40/40 [==============================] - 13s 319ms/step - loss: 0.2687 - acc: 0.9220 - val_loss: 0.2579 - val_acc: 0.9295\n",
      "Epoch 42/500\n",
      "40/40 [==============================] - 13s 326ms/step - loss: 0.2673 - acc: 0.9232 - val_loss: 0.5246 - val_acc: 0.8769\n",
      "Epoch 43/500\n",
      "40/40 [==============================] - 13s 325ms/step - loss: 0.2660 - acc: 0.9232 - val_loss: 0.4564 - val_acc: 0.8899\n",
      "Epoch 44/500\n",
      "40/40 [==============================] - 13s 318ms/step - loss: 0.2641 - acc: 0.9230 - val_loss: 0.3045 - val_acc: 0.9194\n",
      "Epoch 45/500\n",
      "40/40 [==============================] - 13s 327ms/step - loss: 0.2635 - acc: 0.9240 - val_loss: 0.2758 - val_acc: 0.9252\n",
      "Epoch 46/500\n",
      "40/40 [==============================] - 13s 325ms/step - loss: 0.2655 - acc: 0.9227 - val_loss: 0.5330 - val_acc: 0.8756\n",
      "Epoch 47/500\n",
      "40/40 [==============================] - 13s 319ms/step - loss: 0.2726 - acc: 0.9217 - val_loss: 0.3876 - val_acc: 0.9013\n",
      "Epoch 48/500\n",
      "40/40 [==============================] - 13s 321ms/step - loss: 0.2662 - acc: 0.9225 - val_loss: 0.4659 - val_acc: 0.8870\n",
      "Epoch 49/500\n",
      "40/40 [==============================] - 13s 325ms/step - loss: 0.2624 - acc: 0.9231 - val_loss: 0.4322 - val_acc: 0.8935\n",
      "Epoch 50/500\n",
      "40/40 [==============================] - 13s 326ms/step - loss: 0.2671 - acc: 0.9223 - val_loss: 0.4279 - val_acc: 0.8959\n",
      "Epoch 51/500\n",
      "40/40 [==============================] - 13s 322ms/step - loss: 0.2677 - acc: 0.9216 - val_loss: 0.8043 - val_acc: 0.8279\n",
      "Epoch 52/500\n",
      "40/40 [==============================] - 13s 327ms/step - loss: 0.2592 - acc: 0.9242 - val_loss: 0.4268 - val_acc: 0.8970\n",
      "Epoch 53/500\n",
      "40/40 [==============================] - 13s 323ms/step - loss: 0.2644 - acc: 0.9229 - val_loss: 0.3921 - val_acc: 0.9006\n",
      "Epoch 54/500\n",
      "40/40 [==============================] - 13s 325ms/step - loss: 0.2643 - acc: 0.9225 - val_loss: 0.4300 - val_acc: 0.8929\n",
      "Epoch 55/500\n",
      "40/40 [==============================] - 13s 322ms/step - loss: 0.2635 - acc: 0.9237 - val_loss: 0.4720 - val_acc: 0.8861\n",
      "Epoch 56/500\n",
      "40/40 [==============================] - 13s 324ms/step - loss: 0.2613 - acc: 0.9244 - val_loss: 0.3843 - val_acc: 0.9029\n",
      "Epoch 57/500\n",
      "40/40 [==============================] - 13s 319ms/step - loss: 0.2606 - acc: 0.9243 - val_loss: 0.3401 - val_acc: 0.9122\n",
      "Epoch 58/500\n",
      "40/40 [==============================] - 13s 322ms/step - loss: 0.2650 - acc: 0.9232 - val_loss: 0.4924 - val_acc: 0.8830\n",
      "Epoch 59/500\n",
      "40/40 [==============================] - 13s 322ms/step - loss: 0.2657 - acc: 0.9225 - val_loss: 0.4679 - val_acc: 0.8874\n",
      "Epoch 60/500\n",
      "40/40 [==============================] - 13s 326ms/step - loss: 0.2646 - acc: 0.9241 - val_loss: 0.4752 - val_acc: 0.8871\n",
      "Epoch 61/500\n",
      "40/40 [==============================] - 13s 335ms/step - loss: 0.2591 - acc: 0.9240 - val_loss: 0.4188 - val_acc: 0.8984\n"
     ]
    },
    {
     "name": "stdout",
     "output_type": "stream",
     "text": [
      "Epoch 62/500\n",
      "40/40 [==============================] - 13s 329ms/step - loss: 0.2637 - acc: 0.9232 - val_loss: 0.4204 - val_acc: 0.8975\n",
      "Epoch 63/500\n",
      "40/40 [==============================] - 13s 319ms/step - loss: 0.2596 - acc: 0.9231 - val_loss: 0.4649 - val_acc: 0.8864\n",
      "Epoch 64/500\n",
      "40/40 [==============================] - 13s 323ms/step - loss: 0.2583 - acc: 0.9240 - val_loss: 0.4102 - val_acc: 0.8984\n",
      "Epoch 65/500\n",
      "40/40 [==============================] - 13s 324ms/step - loss: 0.2656 - acc: 0.9228 - val_loss: 0.3736 - val_acc: 0.9047\n",
      "Epoch 66/500\n",
      "40/40 [==============================] - 13s 325ms/step - loss: 0.2602 - acc: 0.9236 - val_loss: 0.5709 - val_acc: 0.8686\n",
      "Epoch 67/500\n",
      "40/40 [==============================] - 13s 326ms/step - loss: 0.2611 - acc: 0.9234 - val_loss: 0.6629 - val_acc: 0.8520\n",
      "Epoch 68/500\n",
      "40/40 [==============================] - 13s 327ms/step - loss: 0.2604 - acc: 0.9236 - val_loss: 0.2726 - val_acc: 0.9247\n",
      "Epoch 69/500\n",
      "40/40 [==============================] - 13s 325ms/step - loss: 0.2659 - acc: 0.9228 - val_loss: 1.2142 - val_acc: 0.7585\n",
      "Epoch 70/500\n",
      "40/40 [==============================] - 13s 319ms/step - loss: 0.2645 - acc: 0.9227 - val_loss: 0.6566 - val_acc: 0.8538\n",
      "Epoch 71/500\n",
      "40/40 [==============================] - 13s 320ms/step - loss: 0.2658 - acc: 0.9219 - val_loss: 0.4370 - val_acc: 0.8913\n",
      "Epoch 72/500\n",
      "40/40 [==============================] - 13s 319ms/step - loss: 0.2612 - acc: 0.9230 - val_loss: 0.2515 - val_acc: 0.9305\n",
      "Epoch 73/500\n",
      "40/40 [==============================] - 13s 326ms/step - loss: 0.2608 - acc: 0.9248 - val_loss: 0.4384 - val_acc: 0.8937\n",
      "Epoch 74/500\n",
      "40/40 [==============================] - 13s 319ms/step - loss: 0.2601 - acc: 0.9249 - val_loss: 0.5561 - val_acc: 0.8719\n",
      "Epoch 75/500\n",
      "40/40 [==============================] - 13s 323ms/step - loss: 0.2626 - acc: 0.9236 - val_loss: 0.4000 - val_acc: 0.9005\n",
      "Epoch 76/500\n",
      "40/40 [==============================] - 13s 328ms/step - loss: 0.2565 - acc: 0.9265 - val_loss: 0.5014 - val_acc: 0.8809\n",
      "Epoch 77/500\n",
      "40/40 [==============================] - 13s 319ms/step - loss: 0.2609 - acc: 0.9245 - val_loss: 0.5102 - val_acc: 0.8763\n",
      "Epoch 78/500\n",
      "40/40 [==============================] - 13s 331ms/step - loss: 0.2632 - acc: 0.9242 - val_loss: 0.6012 - val_acc: 0.8616\n",
      "Epoch 79/500\n",
      "40/40 [==============================] - 13s 327ms/step - loss: 0.2557 - acc: 0.9251 - val_loss: 0.4007 - val_acc: 0.9020\n",
      "Epoch 80/500\n",
      "40/40 [==============================] - 13s 327ms/step - loss: 0.2615 - acc: 0.9246 - val_loss: 0.6531 - val_acc: 0.8514\n",
      "Epoch 81/500\n",
      "40/40 [==============================] - 13s 326ms/step - loss: 0.2577 - acc: 0.9242 - val_loss: 0.3050 - val_acc: 0.9200\n",
      "Epoch 82/500\n",
      "40/40 [==============================] - 13s 331ms/step - loss: 0.2566 - acc: 0.9248 - val_loss: 0.3917 - val_acc: 0.8999\n",
      "Epoch 83/500\n",
      "40/40 [==============================] - 13s 324ms/step - loss: 0.2581 - acc: 0.9241 - val_loss: 0.3554 - val_acc: 0.9083\n",
      "Epoch 84/500\n",
      "40/40 [==============================] - 13s 329ms/step - loss: 0.2597 - acc: 0.9243 - val_loss: 0.3266 - val_acc: 0.9128\n",
      "Epoch 85/500\n",
      "40/40 [==============================] - 13s 329ms/step - loss: 0.2643 - acc: 0.9231 - val_loss: 0.7131 - val_acc: 0.8416\n",
      "Epoch 86/500\n",
      "40/40 [==============================] - 13s 323ms/step - loss: 0.2571 - acc: 0.9250 - val_loss: 0.4713 - val_acc: 0.8854\n",
      "Epoch 87/500\n",
      "40/40 [==============================] - 13s 331ms/step - loss: 0.2674 - acc: 0.9217 - val_loss: 0.4859 - val_acc: 0.8832\n",
      "Epoch 88/500\n",
      "40/40 [==============================] - 13s 330ms/step - loss: 0.2596 - acc: 0.9246 - val_loss: 0.4535 - val_acc: 0.8890\n",
      "Epoch 89/500\n",
      "40/40 [==============================] - 13s 324ms/step - loss: 0.2620 - acc: 0.9239 - val_loss: 0.8448 - val_acc: 0.8169\n",
      "Epoch 90/500\n",
      "40/40 [==============================] - 13s 329ms/step - loss: 0.2606 - acc: 0.9246 - val_loss: 0.4949 - val_acc: 0.8793\n",
      "Epoch 91/500\n",
      "40/40 [==============================] - 13s 326ms/step - loss: 0.2575 - acc: 0.9263 - val_loss: 0.3956 - val_acc: 0.8995\n",
      "Epoch 92/500\n",
      "40/40 [==============================] - 13s 328ms/step - loss: 0.2557 - acc: 0.9240 - val_loss: 0.4514 - val_acc: 0.8899\n",
      "Epoch 93/500\n",
      "40/40 [==============================] - 13s 324ms/step - loss: 0.2673 - acc: 0.9220 - val_loss: 0.4255 - val_acc: 0.8921\n",
      "Epoch 94/500\n",
      "40/40 [==============================] - 13s 329ms/step - loss: 0.2623 - acc: 0.9237 - val_loss: 0.3584 - val_acc: 0.9065\n",
      "Epoch 95/500\n",
      "40/40 [==============================] - 13s 327ms/step - loss: 0.2600 - acc: 0.9247 - val_loss: 0.3379 - val_acc: 0.9107\n",
      "Epoch 96/500\n",
      "40/40 [==============================] - 13s 330ms/step - loss: 0.2619 - acc: 0.9228 - val_loss: 0.5351 - val_acc: 0.8741\n",
      "Epoch 97/500\n",
      "40/40 [==============================] - 13s 321ms/step - loss: 0.2599 - acc: 0.9253 - val_loss: 0.4107 - val_acc: 0.8964\n",
      "Epoch 98/500\n",
      "40/40 [==============================] - 13s 323ms/step - loss: 0.2583 - acc: 0.9249 - val_loss: 0.3439 - val_acc: 0.9102\n",
      "Epoch 99/500\n",
      "40/40 [==============================] - 13s 317ms/step - loss: 0.2608 - acc: 0.9237 - val_loss: 0.3470 - val_acc: 0.9078\n",
      "Epoch 100/500\n",
      "40/40 [==============================] - 13s 325ms/step - loss: 0.2542 - acc: 0.9253 - val_loss: 0.5452 - val_acc: 0.8701\n",
      "Epoch 101/500\n",
      "40/40 [==============================] - 13s 321ms/step - loss: 0.2626 - acc: 0.9237 - val_loss: 0.3846 - val_acc: 0.9022\n",
      "Epoch 102/500\n",
      "40/40 [==============================] - 13s 322ms/step - loss: 0.2630 - acc: 0.9235 - val_loss: 0.3548 - val_acc: 0.9078\n",
      "Epoch 103/500\n",
      "40/40 [==============================] - 13s 324ms/step - loss: 0.2558 - acc: 0.9253 - val_loss: 0.4083 - val_acc: 0.8955\n",
      "Epoch 104/500\n",
      "40/40 [==============================] - 13s 321ms/step - loss: 0.2592 - acc: 0.9244 - val_loss: 0.4304 - val_acc: 0.8932\n",
      "Epoch 105/500\n",
      "40/40 [==============================] - 13s 329ms/step - loss: 0.2577 - acc: 0.9248 - val_loss: 0.4680 - val_acc: 0.8867\n",
      "Epoch 106/500\n",
      "40/40 [==============================] - 13s 332ms/step - loss: 0.2632 - acc: 0.9225 - val_loss: 0.3701 - val_acc: 0.9067\n",
      "Epoch 107/500\n",
      "40/40 [==============================] - 13s 330ms/step - loss: 0.2572 - acc: 0.9242 - val_loss: 0.3258 - val_acc: 0.9148\n",
      "Epoch 108/500\n",
      "40/40 [==============================] - 13s 333ms/step - loss: 0.2574 - acc: 0.9249 - val_loss: 0.4107 - val_acc: 0.8976\n",
      "Epoch 109/500\n",
      "40/40 [==============================] - 13s 324ms/step - loss: 0.2664 - acc: 0.9214 - val_loss: 0.4623 - val_acc: 0.8875\n",
      "Epoch 110/500\n",
      "40/40 [==============================] - 13s 332ms/step - loss: 0.2588 - acc: 0.9242 - val_loss: 0.3547 - val_acc: 0.9091\n",
      "Epoch 111/500\n",
      "40/40 [==============================] - 13s 321ms/step - loss: 0.2572 - acc: 0.9248 - val_loss: 0.5529 - val_acc: 0.8711\n",
      "Epoch 112/500\n",
      "40/40 [==============================] - 13s 327ms/step - loss: 0.2592 - acc: 0.9256 - val_loss: 0.5687 - val_acc: 0.8703\n",
      "Epoch 113/500\n",
      " 6/40 [===>..........................] - ETA: 7s - loss: 0.2643 - acc: 0.9233"
     ]
    }
   ],
   "source": [
    "epochs = 500\n",
    "batch_size=2048\n",
    "\n",
    "model.compile(optimizer='adam', loss='categorical_crossentropy', metrics=['accuracy'])\n",
    "model.fit_generator(datagen.flow(x_train, y_train, batch_size=batch_size), epochs=epochs,verbose=1,validation_data=(x_test,y_test))"
   ]
  },
  {
   "cell_type": "code",
   "execution_count": 11,
   "metadata": {},
   "outputs": [],
   "source": [
    "# batch_size = 2048\n",
    "# epochs = 500\n",
    "# model.compile(optimizer='adam', loss='categorical_crossentropy', metrics=['accuracy'])\n",
    "# history = model.fit(x_train, y_train, batch_size=batch_size, epochs=epochs, verbose=1,validation_split=0.1)\n",
    "# # model1.evaluate(test_data, test_labels_one_hot)"
   ]
  },
  {
   "cell_type": "code",
   "execution_count": 23,
   "metadata": {},
   "outputs": [],
   "source": [
    "def label_to_string(label):\n",
    "    lis=[]\n",
    "    instances=label.shape[0]\n",
    "    for i in range(instances):\n",
    "        lis.append(int_to_string[label[i]])\n",
    "    return lis"
   ]
  },
  {
   "cell_type": "code",
   "execution_count": 21,
   "metadata": {},
   "outputs": [],
   "source": [
    "model.save_weights(\"big2.h5\")"
   ]
  },
  {
   "cell_type": "code",
   "execution_count": 24,
   "metadata": {},
   "outputs": [
    {
     "name": "stdout",
     "output_type": "stream",
     "text": [
      "(100000,)\n",
      "(100000,)\n"
     ]
    }
   ],
   "source": [
    "predictions=np.argmax(model.predict(test_x),axis=1)\n",
    "print(predictions.shape)\n",
    "predictions=label_to_string(predictions)\n",
    "predictions=np.asarray(predictions)\n",
    "print(predictions.shape)"
   ]
  },
  {
   "cell_type": "code",
   "execution_count": 25,
   "metadata": {},
   "outputs": [],
   "source": [
    "df=pd.DataFrame(data=predictions,columns=['CATEGORY'])\n",
    "df.index.name='ID'\n",
    "df.to_csv(path_or_buf=\"ignore/CNN_sub.csv\",sep=',')"
   ]
  },
  {
   "cell_type": "code",
   "execution_count": 16,
   "metadata": {},
   "outputs": [],
   "source": [
    "\n",
    "# model_json = model.to_json()\n",
    "# with open(\"model.json\", \"w\") as json_file:\n",
    "#     json_file.write(model_json)\n",
    "# # serialize weights to HDF5\n",
    "# model.save_weights(\"model.h5\")\n",
    "# print(\"Saved model to disk\")\n",
    " \n",
    "# # later...\n",
    " \n",
    "# # load json and create model\n",
    "# json_file = open('model.json', 'r')\n",
    "# loaded_model_json = json_file.read()\n",
    "# json_file.close()\n",
    "# loaded_model = model_from_json(loaded_model_json)\n",
    "# # load weights into new model\n",
    "# loaded_model.load_weights(\"model.h5\")\n",
    "# print(\"Loaded model from disk\")\n",
    " \n",
    "# # evaluate loaded model on test data\n",
    "# loaded_model.compile(loss='binary_crossentropy', optimizer='rmsprop', metrics=['accuracy'])\n",
    "# score = loaded_model.evaluate(X, Y, verbose=0)\n",
    "# print(\"%s: %.2f%%\" % (loaded_model.metrics_names[1], score[1]*100))"
   ]
  },
  {
   "cell_type": "code",
   "execution_count": 9,
   "metadata": {},
   "outputs": [],
   "source": [
    "model.load_weights(\"big.h5\")"
   ]
  },
  {
   "cell_type": "code",
   "execution_count": null,
   "metadata": {},
   "outputs": [],
   "source": []
  }
 ],
 "metadata": {
  "kernelspec": {
   "display_name": "Python 3",
   "language": "python",
   "name": "python3"
  },
  "language_info": {
   "codemirror_mode": {
    "name": "ipython",
    "version": 3
   },
   "file_extension": ".py",
   "mimetype": "text/x-python",
   "name": "python",
   "nbconvert_exporter": "python",
   "pygments_lexer": "ipython3",
   "version": "3.5.2"
  }
 },
 "nbformat": 4,
 "nbformat_minor": 2
}
