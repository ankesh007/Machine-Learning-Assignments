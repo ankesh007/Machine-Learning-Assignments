{
 "cells": [
  {
   "cell_type": "code",
   "execution_count": 1,
   "metadata": {},
   "outputs": [],
   "source": [
    "import numpy as np\n",
    "import pandas as pd\n",
    "import sys"
   ]
  },
  {
   "cell_type": "code",
   "execution_count": 2,
   "metadata": {},
   "outputs": [],
   "source": [
    "trainpd=pd.read_csv(\"Dataset/mnist/train.csv\",header=None,sep=',')\n",
    "testpd=pd.read_csv(\"Dataset/mnist/test.csv\",header=None,sep=',')"
   ]
  },
  {
   "cell_type": "code",
   "execution_count": 47,
   "metadata": {},
   "outputs": [
    {
     "ename": "SyntaxError",
     "evalue": "unexpected EOF while parsing (<ipython-input-47-f1bf48fd46c5>, line 58)",
     "output_type": "error",
     "traceback": [
      "\u001b[0;36m  File \u001b[0;32m\"<ipython-input-47-f1bf48fd46c5>\"\u001b[0;36m, line \u001b[0;32m58\u001b[0m\n\u001b[0;31m    \u001b[0m\n\u001b[0m    ^\u001b[0m\n\u001b[0;31mSyntaxError\u001b[0m\u001b[0;31m:\u001b[0m unexpected EOF while parsing\n"
     ]
    }
   ],
   "source": [
    "class SVM:\n",
    "    \n",
    "    def __init__(self,x,y,normalize_x=True):\n",
    "        self.x=np.copy(x)\n",
    "        self.y=np.copy(y)\n",
    "        [instances,dimensions]=x.shape\n",
    "        self.dimensions=dimensions\n",
    "        self.instances=instances\n",
    "        self.normalize_param=np.ones((1,dimensions))\n",
    "        self.normalize_x=normalize_x\n",
    "        self.weight=np.zeros((dimensions,1))\n",
    "        self.bias=0\n",
    "        self.epoch=0\n",
    "        self.train_steps=0\n",
    "\n",
    "        if(normalize_x==True):\n",
    "            self.normalize_param=self.getNormParam()\n",
    "            self.x=self.normalize(self.x)\n",
    "        \n",
    "    def getNormParam(self):\n",
    "        max_arr=np.amax(self.x,axis=0)\n",
    "        bool_0=(max_arr==0)\n",
    "        max_arr+=bool_0.astype(int)\n",
    "        return max_arr.astype(float)[np.newaxis,:]\n",
    "    \n",
    "    def normalize(self,x):\n",
    "        return (x/self.normalize_param)\n",
    "    \n",
    "    def resetParam(self):\n",
    "        self.weight=np.zeros((1,self.dimensions))\n",
    "        self.bias=0\n",
    "        self.epoch=0\n",
    "        self.train_steps=0\n",
    "        return\n",
    "    \n",
    "    def evaluate(self,x,y):\n",
    "        return (x*self.weight+bias)*y\n",
    "    \n",
    "    def train(self,x,y,lambda=0.01,C=1,batch_mode=True,batch_size=100):\n",
    "        self.resetParam()\n",
    "        \n",
    "        if(batch_mode==False):\n",
    "            batch_size=self.instances\n",
    "            \n",
    "        Trained=False\n",
    "        xy=-(x*y)\n",
    "        [instances,dim]=x.shape\n",
    "        [instances,ydim]=y.shape\n",
    "        \n",
    "        while(Trained==False):\n",
    "            cur_instance=0\n",
    "            self.epoch+=1\n",
    "            \n",
    "            while(cur_instance<instances):\n",
    "                self.train+=1\n",
    "                eta=1/(lambda*self.train)\n",
    "                up_lim=min(instances,cur_instance+batch_size)\n",
    "                batch_x=x[cur_instance:up_lim,0:dim]\n",
    "                batch_y=y[cur_instance:up_lim,0:ydim]\n",
    "                batch_xy=xy[cur_instance:up_lim,0:dim]\n",
    "                cur_instance+=batch_size\n",
    "                evaluate=self.evaluate(batch_x,batch_y)\n",
    "                mask_eval=((1-evaluate)>0).astype(int)\n",
    "                self.weight=(1-eta*lambda)*self.weight + eta*C*(np.sum(batch_xy*mask,axis=0))\n",
    "                \n",
    "                \n",
    "                \n",
    "                \n",
    "            \n",
    "            \n",
    "            \n",
    "            \n",
    "        \n",
    "        \n",
    "    \n",
    "    \n",
    "    \n",
    "    \n",
    "            "
   ]
  },
  {
   "cell_type": "code",
   "execution_count": 4,
   "metadata": {},
   "outputs": [],
   "source": [
    "def parseDataframe(dataframe):\n",
    "    values=dataframe.values\n",
    "    [instances,dim]=values.shape\n",
    "    x=values[:,0:dim-1]\n",
    "    y=values[:,dim-1:dim]\n",
    "    return (x,y)"
   ]
  },
  {
   "cell_type": "code",
   "execution_count": 5,
   "metadata": {},
   "outputs": [],
   "source": [
    "(x_train,y_train)=parseDataframe(trainpd)"
   ]
  },
  {
   "cell_type": "code",
   "execution_count": 8,
   "metadata": {},
   "outputs": [
    {
     "name": "stdout",
     "output_type": "stream",
     "text": [
      "(20000, 784)\n",
      "(20000, 1)\n"
     ]
    }
   ],
   "source": [
    "print(x_train.shape)\n",
    "print(y_train.shape)"
   ]
  },
  {
   "cell_type": "code",
   "execution_count": 37,
   "metadata": {},
   "outputs": [],
   "source": [
    "SVM_instance=SVM(x_train,y_train)"
   ]
  },
  {
   "cell_type": "code",
   "execution_count": null,
   "metadata": {},
   "outputs": [],
   "source": []
  },
  {
   "cell_type": "code",
   "execution_count": null,
   "metadata": {},
   "outputs": [],
   "source": []
  },
  {
   "cell_type": "code",
   "execution_count": null,
   "metadata": {},
   "outputs": [],
   "source": []
  },
  {
   "cell_type": "code",
   "execution_count": null,
   "metadata": {},
   "outputs": [],
   "source": []
  }
 ],
 "metadata": {
  "kernelspec": {
   "display_name": "Python 3",
   "language": "python",
   "name": "python3"
  },
  "language_info": {
   "codemirror_mode": {
    "name": "ipython",
    "version": 3
   },
   "file_extension": ".py",
   "mimetype": "text/x-python",
   "name": "python",
   "nbconvert_exporter": "python",
   "pygments_lexer": "ipython3",
   "version": "3.5.2"
  }
 },
 "nbformat": 4,
 "nbformat_minor": 2
}
