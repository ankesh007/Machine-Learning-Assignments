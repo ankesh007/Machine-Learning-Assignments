{
 "cells": [
  {
   "cell_type": "code",
   "execution_count": 4,
   "metadata": {},
   "outputs": [],
   "source": [
    "from sklearn.tree import DecisionTreeClassifier\n",
    "import read_data"
   ]
  },
  {
   "cell_type": "code",
   "execution_count": 5,
   "metadata": {},
   "outputs": [],
   "source": [
    "train_data = read_data.preprocess(\"Dataset/DT/dtree_data/train.csv\",False)\n",
    "valid_data = read_data.preprocess(\"Dataset/DT/dtree_data/valid.csv\",False)\n",
    "test_data = read_data.preprocess(\"Dataset/DT/dtree_data/test.csv\",False)"
   ]
  },
  {
   "cell_type": "code",
   "execution_count": 8,
   "metadata": {
    "scrolled": true
   },
   "outputs": [
    {
     "name": "stdout",
     "output_type": "stream",
     "text": [
      "(27000, 15)\n",
      "(3000, 15)\n",
      "(7000, 15)\n"
     ]
    }
   ],
   "source": [
    "print (train_data.shape)\n",
    "print (valid_data.shape)\n",
    "print (test_data.shape)"
   ]
  },
  {
   "cell_type": "code",
   "execution_count": 9,
   "metadata": {},
   "outputs": [],
   "source": [
    "def getLists(train_data):\n",
    "    (instances,attributes)=train_data.shape\n",
    "    trainLabel=train_data[:,0]\n",
    "    trainData=train_data[:,1:attributes]\n",
    "    trainDataList=trainData.tolist()\n",
    "    trainLabelList=trainLabel.tolist()\n",
    "    return(trainDataList,trainLabelList)\n"
   ]
  },
  {
   "cell_type": "code",
   "execution_count": 10,
   "metadata": {},
   "outputs": [],
   "source": [
    "(trainX,trainY)=getLists(train_data)\n",
    "(validX,validY)=getLists(valid_data)\n",
    "(testX,testY)  =getLists(test_data)"
   ]
  },
  {
   "cell_type": "code",
   "execution_count": 56,
   "metadata": {},
   "outputs": [
    {
     "data": {
      "text/plain": [
       "DecisionTreeClassifier(class_weight=None, criterion='entropy', max_depth=12,\n",
       "            max_features=None, max_leaf_nodes=None,\n",
       "            min_impurity_decrease=0.0, min_impurity_split=None,\n",
       "            min_samples_leaf=10, min_samples_split=32,\n",
       "            min_weight_fraction_leaf=0.0, presort=False, random_state=None,\n",
       "            splitter='best')"
      ]
     },
     "execution_count": 56,
     "metadata": {},
     "output_type": "execute_result"
    }
   ],
   "source": [
    "dtc=DecisionTreeClassifier(criterion=\"entropy\",max_depth=12, min_samples_split=32, min_samples_leaf=10)\n",
    "dtc.fit(trainX,trainY)"
   ]
  },
  {
   "cell_type": "code",
   "execution_count": 57,
   "metadata": {},
   "outputs": [
    {
     "name": "stdout",
     "output_type": "stream",
     "text": [
      "0.8669629629629629\n",
      "0.8452857142857143\n",
      "0.851\n"
     ]
    }
   ],
   "source": [
    "print(dtc.score(trainX,trainY))\n",
    "print(dtc.score(testX,testY))\n",
    "print(dtc.score(validX,validY))"
   ]
  },
  {
   "cell_type": "code",
   "execution_count": null,
   "metadata": {},
   "outputs": [],
   "source": []
  },
  {
   "cell_type": "code",
   "execution_count": null,
   "metadata": {},
   "outputs": [],
   "source": []
  }
 ],
 "metadata": {
  "kernelspec": {
   "display_name": "Python 3",
   "language": "python",
   "name": "python3"
  },
  "language_info": {
   "codemirror_mode": {
    "name": "ipython",
    "version": 3
   },
   "file_extension": ".py",
   "mimetype": "text/x-python",
   "name": "python",
   "nbconvert_exporter": "python",
   "pygments_lexer": "ipython3",
   "version": "3.5.2"
  }
 },
 "nbformat": 4,
 "nbformat_minor": 2
}
