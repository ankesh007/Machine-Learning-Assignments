{
 "cells": [
  {
   "cell_type": "code",
   "execution_count": 1,
   "metadata": {},
   "outputs": [],
   "source": [
    "from sklearn.linear_model import LogisticRegression\n",
    "import pandas as pd\n",
    "import visualization"
   ]
  },
  {
   "cell_type": "code",
   "execution_count": 2,
   "metadata": {},
   "outputs": [],
   "source": [
    "xtrain=pd.read_csv(\"Dataset/NN/toy_data/toy_trainX.csv\",header=None,sep=',').values\n",
    "ytrain=pd.read_csv(\"Dataset/NN/toy_data/toy_trainY.csv\",header=None,sep=',').values[:,0]\n",
    "xtest=pd.read_csv(\"Dataset/NN/toy_data/toy_testX.csv\",header=None,sep=',').values\n",
    "ytest=pd.read_csv(\"Dataset/NN/toy_data/toy_testY.csv\",header=None,sep=',').values[:,0]"
   ]
  },
  {
   "cell_type": "code",
   "execution_count": 3,
   "metadata": {
    "scrolled": true
   },
   "outputs": [
    {
     "name": "stdout",
     "output_type": "stream",
     "text": [
      "(380, 2)\n",
      "(120, 2)\n",
      "(380,)\n",
      "(120,)\n"
     ]
    }
   ],
   "source": [
    "print (xtrain.shape)\n",
    "print (xtest.shape)\n",
    "print (ytrain.shape)\n",
    "print (ytest.shape)"
   ]
  },
  {
   "cell_type": "code",
   "execution_count": 4,
   "metadata": {},
   "outputs": [
    {
     "data": {
      "text/plain": [
       "LogisticRegression(C=1.0, class_weight=None, dual=False, fit_intercept=True,\n",
       "          intercept_scaling=1, max_iter=100, multi_class='ovr', n_jobs=1,\n",
       "          penalty='l2', random_state=None, solver='liblinear', tol=0.0001,\n",
       "          verbose=0, warm_start=False)"
      ]
     },
     "execution_count": 4,
     "metadata": {},
     "output_type": "execute_result"
    }
   ],
   "source": [
    "lr=LogisticRegression(max_iter=100)\n",
    "lr.fit(xtrain,ytrain)"
   ]
  },
  {
   "cell_type": "code",
   "execution_count": 5,
   "metadata": {},
   "outputs": [
    {
     "name": "stdout",
     "output_type": "stream",
     "text": [
      "0.45789473684210524\n",
      "0.38333333333333336\n"
     ]
    }
   ],
   "source": [
    "print(lr.score(xtrain,ytrain))\n",
    "print(lr.score(xtest,ytest))"
   ]
  },
  {
   "cell_type": "code",
   "execution_count": 6,
   "metadata": {},
   "outputs": [],
   "source": [
    "# visualization.plot_decision_boundary(model=lr.predict,X=xtrain,y=ytrain,filename=\"LogisticDB_Train\")"
   ]
  },
  {
   "cell_type": "code",
   "execution_count": 8,
   "metadata": {},
   "outputs": [],
   "source": [
    "# visualization.plot_decision_boundary(model=lr.predict,X=xtest,y=ytest,filename=\"LogisticDB_Test\")"
   ]
  },
  {
   "cell_type": "code",
   "execution_count": null,
   "metadata": {},
   "outputs": [],
   "source": []
  }
 ],
 "metadata": {
  "kernelspec": {
   "display_name": "Python 3",
   "language": "python",
   "name": "python3"
  },
  "language_info": {
   "codemirror_mode": {
    "name": "ipython",
    "version": 3
   },
   "file_extension": ".py",
   "mimetype": "text/x-python",
   "name": "python",
   "nbconvert_exporter": "python",
   "pygments_lexer": "ipython3",
   "version": "3.5.2"
  }
 },
 "nbformat": 4,
 "nbformat_minor": 2
}
