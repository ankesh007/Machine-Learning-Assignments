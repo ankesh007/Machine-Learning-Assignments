{
 "cells": [
  {
   "cell_type": "code",
   "execution_count": 3,
   "metadata": {},
   "outputs": [],
   "source": [
    "import pandas as pd\n",
    "import numpy as np"
   ]
  },
  {
   "cell_type": "markdown",
   "metadata": {},
   "source": [
    "# Neural Network Class"
   ]
  },
  {
   "cell_type": "code",
   "execution_count": 4,
   "metadata": {},
   "outputs": [],
   "source": [
    "class NeuralNetwork:\n",
    "    \n",
    "    def __init__(self,inputNodes,hiddenList,hiddenActivations,outputNodes=1,outputActivation=\"SIGMOID\"):\n",
    "        self.inputNodes=inputNodes\n",
    "        self.outputNodes=outputNodes\n",
    "        self.hiddenList=[inputNodes]+hiddenList+[outputNodes]\n",
    "        # Nodes in each Layer (Also stores corresponding to input and output layer)\n",
    "        self.Activations=[\"None\"]+hiddenActivations+[outputActivation]\n",
    "        # Activation Functions (Also stores corresponding to input and output layer)\n",
    "        self.weight=[]\n",
    "        self.os=[]\n",
    "        self.net=[]\n",
    "        self.deltas=[]\n",
    "        self.loss=0\n",
    "        self.trainsteps=0\n",
    "        self.epoch=0\n",
    "    \n",
    "    # Initialise weight Matrices Randomly\n",
    "    def initialiseWeight(self):\n",
    "        layers=len(self.hiddenList)\n",
    "        self.trainsteps=0\n",
    "        self.epoch=0\n",
    "        \n",
    "        for i in range(1,layers,1):\n",
    "            self.weight.append(np.random.randn(self.hiddenList[i],self.hiddenList[i-1]+1))\n",
    "    \n",
    "    # Applies Activation Function\n",
    "    def applyActivation(self,vector,activation=\"None\"):\n",
    "        if(activation==\"RELU\"):\n",
    "            return vector*(vector>=0)\n",
    "        elif(activation==\"SIGMOID\"):\n",
    "            return (1.0/(1+np.exp(-vector)))\n",
    "        else:\n",
    "            return 1*vector\n",
    "    \n",
    "    def append1(self,x):\n",
    "        [instances,attr]=x.shape\n",
    "        bias=np.ones([instances,1])\n",
    "        return np.concatenate((bias,x),axis=1)\n",
    "    \n",
    "    # Forward Pass a batch through the network\n",
    "    def forwardPass(self,batchX):\n",
    "        \n",
    "        layers=len(self.weight)\n",
    "        self.os=[self.append1(batchX)]\n",
    "        self.net=[self.append1(batchX)]\n",
    "                \n",
    "        for i in range(layers):\n",
    "            x=self.os[i]\n",
    "            netj=np.matmul(x,self.weight[i].T)\n",
    "            o=(self.applyActivation(netj,self.Activations[i+1]))\n",
    "            if(i==layers-1):\n",
    "                self.net.append(netj)\n",
    "                self.os.append(o)\n",
    "            else:\n",
    "                self.net.append(self.append1(netj))\n",
    "                self.os.append(self.append1(o))\n",
    "    \n",
    "    # Euclidean Loss -> if Changed, gradient J wrt o must be updated\n",
    "    def lossfunction(self,pred,y):\n",
    "        return (pred-y)**2\n",
    "    \n",
    "    # Function returning loss on batch\n",
    "    def getLoss(self,batchX,batchY):\n",
    "        self.forwardPass(batchX)\n",
    "        layers=len(self.os)\n",
    "        finalOutput=self.os[layers-1]\n",
    "        return np.sum(self.lossfunction(finalOutput,batchY))\n",
    "\n",
    "    # Gradient of o wrt net \n",
    "    def gradient_o_net(self,o,net,activation=\"None\"):\n",
    "        if(activation==\"RELU\"):\n",
    "            return (net>=0)\n",
    "        elif(activation==\"SIGMOID\"):\n",
    "            return o*(1-o)\n",
    "        else:\n",
    "            return (o==o)\n",
    "    \n",
    "    def gradient_o_net_layer(self,layerNo):\n",
    "        return self.gradient_o_net(self.os[layerNo],self.net[layerNo],self.Activations[layerNo])\n",
    "    \n",
    "    # Gradient of J wrt o\n",
    "    def gradient_J_o(self,o,y):\n",
    "        return 2*(o-y)        \n",
    "\n",
    "    # Backward Pass a batch through the network updating Weight Matrices   \n",
    "    def backwardPass(self,batchX,batchY,learningRate=0.01):\n",
    "                \n",
    "        layers=len(self.os)\n",
    "#         m=float(1)\n",
    "        m=float((batchX.shape)[0])\n",
    "        self.deltas=[]\n",
    "        \n",
    "        finalDelta=self.gradient_J_o(self.os[layers-1],batchY)*self.gradient_o_net_layer(layers-1)        \n",
    "        self.deltas.append(finalDelta)\n",
    "        weightMatrixLen=len(self.weight)\n",
    "        \n",
    "        for i in range(layers-2,0,-1):\n",
    "            weightMatrixLen-=1\n",
    "            current_o_net=self.gradient_o_net_layer(i)\n",
    "            current_delta=np.matmul(self.deltas[0],self.weight[weightMatrixLen])\n",
    "            current_delta=current_delta*current_o_net\n",
    "            [_,attributes]=current_delta.shape\n",
    "            self.deltas=[current_delta[:,1:attributes]]+self.deltas\n",
    "        \n",
    "        layers=len(self.weight)\n",
    "         \n",
    "        for i in range(layers-1,-1,-1):\n",
    "            del_w=np.matmul(self.deltas[i].T,self.os[i])\n",
    "            self.weight[i]-=(learningRate/m)*del_w\n",
    "\n",
    "    # training the NN\n",
    "    def train(self,X,Y,learningRate=0.01,batchMode=False,batchSize=100,epsilon=0.0001,epochsToRun=500,logEvery=50):\n",
    "        \n",
    "        [instances,attributes]=X.shape\n",
    "        [_,outputs]=Y.shape\n",
    "        \n",
    "        if(batchMode==False):\n",
    "            batchSize=instances\n",
    "        \n",
    "        Trained=False\n",
    "        prevLoss=self.getLoss(X,Y)\n",
    "        epochs=0\n",
    "        \n",
    "        while(not Trained and epochs<epochsToRun):\n",
    "            self.epoch+=1\n",
    "            epochs+=1\n",
    "            \n",
    "            cur=0\n",
    "            while(cur<instances):\n",
    "                uplim=min(cur+batchSize,instances)\n",
    "                batchX=X[cur:uplim,0:attributes]\n",
    "                batchY=Y[cur:uplim,0:outputs]\n",
    "                cur=uplim\n",
    "                self.forwardPass(batchX)\n",
    "                self.backwardPass(batchX,batchY,learningRate)\n",
    "                self.trainsteps+=1\n",
    "            \n",
    "            curLoss=self.getLoss(X,Y)\n",
    "            \n",
    "            if(abs(curLoss-prevLoss)<epsilon):\n",
    "                Trained=True\n",
    "            \n",
    "            prevLoss=curLoss\n",
    "            if(self.epoch%logEvery==0):\n",
    "                print (\"Epoch:\",self.epoch,\"Loss:\",prevLoss,\"Accuracy:\",self.getAccuracy(X,Y))\n",
    "        \n",
    "    def predict(self,X):\n",
    "        self.forwardPass(X)\n",
    "        layers=len(self.os)\n",
    "        return self.os[layers-1]\n",
    "    \n",
    "    def getAccuracy(self,X,Y):\n",
    "        pred=self.predict(X)\n",
    "        instances=float(X.shape[0])\n",
    "        \n",
    "        pred=(pred>=0.5).astype(int)\n",
    "        \n",
    "        return (np.sum(pred==Y))/instances\n",
    "        \n",
    "            \n",
    "            \n",
    "        "
   ]
  },
  {
   "cell_type": "markdown",
   "metadata": {},
   "source": [
    "# Loading Data"
   ]
  },
  {
   "cell_type": "code",
   "execution_count": 5,
   "metadata": {},
   "outputs": [],
   "source": [
    "xtrain=pd.read_csv(\"Dataset/NN/toy_data/toy_trainX.csv\",header=None,sep=',').values\n",
    "ytrain=pd.read_csv(\"Dataset/NN/toy_data/toy_trainY.csv\",header=None,sep=',').values\n",
    "xtest=pd.read_csv(\"Dataset/NN/toy_data/toy_testX.csv\",header=None,sep=',').values\n",
    "ytest=pd.read_csv(\"Dataset/NN/toy_data/toy_testY.csv\",header=None,sep=',').values"
   ]
  },
  {
   "cell_type": "code",
   "execution_count": 6,
   "metadata": {},
   "outputs": [],
   "source": [
    "# xtrain=pd.read_csv(\"Dataset/NN/mnist_data/MNIST_train.csv\",header=None,sep=',').values\n",
    "# ytrain=xtrain[:,784:785]\n",
    "# xtrain=xtrain[:,0:784]\n",
    "# xtest=pd.read_csv(\"Dataset/NN/mnist_data/MNIST_test.csv\",header=None,sep=',').values\n",
    "# ytest=xtest[:,784:785]\n",
    "# xtest=xtest[:,0:784]\n",
    "# ytrain=(ytrain==6).astype(int)\n",
    "# ytest=(ytest==6).astype(int)\n",
    "# xtrain=xtrain/255.0\n",
    "# xtest=xtest/255.0"
   ]
  },
  {
   "cell_type": "code",
   "execution_count": 7,
   "metadata": {},
   "outputs": [],
   "source": [
    "# print(xtest)"
   ]
  },
  {
   "cell_type": "code",
   "execution_count": 8,
   "metadata": {},
   "outputs": [
    {
     "name": "stdout",
     "output_type": "stream",
     "text": [
      "(380, 2)\n",
      "(380, 1)\n",
      "(120, 2)\n",
      "(120, 1)\n"
     ]
    }
   ],
   "source": [
    "print(xtrain.shape)\n",
    "print(ytrain.shape)\n",
    "print(xtest.shape)\n",
    "print(ytest.shape)"
   ]
  },
  {
   "cell_type": "markdown",
   "metadata": {},
   "source": [
    "# Testing NN"
   ]
  },
  {
   "cell_type": "code",
   "execution_count": 15,
   "metadata": {},
   "outputs": [],
   "source": [
    "# NN_obj=NeuralNetwork(xtrain.shape[1],[5,5],[\"SIGMOID\",\"SIGMOID\"],ytrain.shape[1])\n",
    "# NN_obj=NeuralNetwork(xtrain.shape[1],[5,5],[\"RELU\",\"RELU\"],ytrain.shape[1])\n",
    "# NN_obj=NeuralNetwork(xtrain.shape[1],[5],[\"SIGMOID\"],ytrain.shape[1])\n",
    "NN_obj=NeuralNetwork(xtrain.shape[1],[5],[\"SIGMOID\"],ytrain.shape[1])"
   ]
  },
  {
   "cell_type": "code",
   "execution_count": 16,
   "metadata": {},
   "outputs": [],
   "source": [
    "NN_obj.initialiseWeight()"
   ]
  },
  {
   "cell_type": "code",
   "execution_count": 17,
   "metadata": {},
   "outputs": [
    {
     "name": "stdout",
     "output_type": "stream",
     "text": [
      "(5, 3)\n",
      "(1, 6)\n"
     ]
    }
   ],
   "source": [
    "for weights in NN_obj.weight:\n",
    "    print(weights.shape)"
   ]
  },
  {
   "cell_type": "code",
   "execution_count": 18,
   "metadata": {},
   "outputs": [
    {
     "data": {
      "text/plain": [
       "101.87060416622421"
      ]
     },
     "execution_count": 18,
     "metadata": {},
     "output_type": "execute_result"
    }
   ],
   "source": [
    "NN_obj.getLoss(xtrain,ytrain)"
   ]
  },
  {
   "cell_type": "code",
   "execution_count": 32,
   "metadata": {},
   "outputs": [
    {
     "name": "stdout",
     "output_type": "stream",
     "text": [
      "Epoch: 40037 Loss: 36.44605952095642 Accuracy: 0.881578947368421\n"
     ]
    }
   ],
   "source": [
    "# NN_obj.train(X=xtrain,Y=ytrain,learningRate=1,batchMode=True,batchSize=100,epochsToRun=100,logEvery=5)\n",
    "NN_obj.train(X=xtrain,Y=ytrain,learningRate=0.001,batchMode=False,batchSize=100,epochsToRun=20000,logEvery=1)"
   ]
  },
  {
   "cell_type": "code",
   "execution_count": 31,
   "metadata": {},
   "outputs": [
    {
     "name": "stdout",
     "output_type": "stream",
     "text": [
      "0.881578947368421\n",
      "0.8333333333333334\n"
     ]
    }
   ],
   "source": [
    "print (NN_obj.getAccuracy(xtrain,ytrain))\n",
    "print (NN_obj.getAccuracy(xtest,ytest))"
   ]
  },
  {
   "cell_type": "code",
   "execution_count": null,
   "metadata": {},
   "outputs": [],
   "source": []
  }
 ],
 "metadata": {
  "kernelspec": {
   "display_name": "Python 3",
   "language": "python",
   "name": "python3"
  },
  "language_info": {
   "codemirror_mode": {
    "name": "ipython",
    "version": 3
   },
   "file_extension": ".py",
   "mimetype": "text/x-python",
   "name": "python",
   "nbconvert_exporter": "python",
   "pygments_lexer": "ipython3",
   "version": "3.5.2"
  }
 },
 "nbformat": 4,
 "nbformat_minor": 2
}
