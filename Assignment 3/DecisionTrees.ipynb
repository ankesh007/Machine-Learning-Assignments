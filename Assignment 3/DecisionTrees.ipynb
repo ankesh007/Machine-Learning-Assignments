{
 "cells": [
  {
   "cell_type": "code",
   "execution_count": 347,
   "metadata": {},
   "outputs": [],
   "source": [
    "import numpy as np\n",
    "import read_data\n",
    "import math"
   ]
  },
  {
   "cell_type": "code",
   "execution_count": 348,
   "metadata": {},
   "outputs": [],
   "source": [
    "train_data = read_data.preprocess(\"Dataset/DT/dtree_data/train.csv\")\n",
    "valid_data = read_data.preprocess(\"Dataset/DT/dtree_data/valid.csv\")\n",
    "test_data = read_data.preprocess(\"Dataset/DT/dtree_data/test.csv\")"
   ]
  },
  {
   "cell_type": "code",
   "execution_count": 349,
   "metadata": {},
   "outputs": [
    {
     "name": "stdout",
     "output_type": "stream",
     "text": [
      "(27000, 15)\n",
      "(3000, 15)\n",
      "(7000, 15)\n"
     ]
    },
    {
     "data": {
      "text/plain": [
       "tuple"
      ]
     },
     "execution_count": 349,
     "metadata": {},
     "output_type": "execute_result"
    }
   ],
   "source": [
    "print (train_data.shape)\n",
    "print (valid_data.shape)\n",
    "print (test_data.shape)\n",
    "type(train_data.shape)"
   ]
  },
  {
   "cell_type": "code",
   "execution_count": 350,
   "metadata": {},
   "outputs": [],
   "source": [
    "class Node:\n",
    "    \n",
    "    def __init__(self):\n",
    "        self.splitAttribute=-1\n",
    "        self.pred=-1\n",
    "        self.positives=0\n",
    "        self.negatives=0\n",
    "        self.children={}\n",
    "        self.median=-1\n",
    "        self.isNumeric=False"
   ]
  },
  {
   "cell_type": "code",
   "execution_count": 351,
   "metadata": {},
   "outputs": [],
   "source": [
    "def growTree(data,label,hasBeenSplit,isNumeric):\n",
    "    \n",
    "    global nodes\n",
    "    nodes+=1\n",
    "#     get Best Splitting Attribute\n",
    "    splitAttribute=getSplitAttribute(data,label,hasBeenSplit,isNumeric)\n",
    "    \n",
    "    instances=len(data)\n",
    "    positives=0.0\n",
    "    negatives=0.0\n",
    "    \n",
    "    for i in range(instances):\n",
    "        if(label[i]==1):\n",
    "            positives+=1\n",
    "        else:\n",
    "            negatives+=1\n",
    "#     Declaring and Initialising Root\n",
    "    root=Node()\n",
    "    root.splitAttribute=splitAttribute\n",
    "    root.positives=positives\n",
    "    root.negatives=negatives\n",
    "    if(positives>=negatives):\n",
    "        root.pred=1\n",
    "    else:\n",
    "        root.pred=0\n",
    "        \n",
    "    if(splitAttribute==-1):\n",
    "        return root\n",
    "    \n",
    "    hasBeenSplit[splitAttribute]=True\n",
    "    distributeData={}\n",
    "    distributeLabel={}\n",
    "    \n",
    "    if(isNumeric[splitAttribute]):\n",
    "        root.isNumeric=True\n",
    "        print(\"NUmeric\")\n",
    "        pass\n",
    "    else:\n",
    "        for i in range(instances):\n",
    "            key=data[i][splitAttribute]\n",
    "            \n",
    "            if key in distributeData:\n",
    "                distributeData[key].append(data[i])\n",
    "                distributeLabel[key].append(label[i])\n",
    "            \n",
    "            else:\n",
    "                distributeData[key]=[data[i]]\n",
    "                distributeLabel[key]=[label[i]]\n",
    "    \n",
    "    for key,value in distributeData.items():\n",
    "        root.children[key]=growTree(value,distributeLabel[key],hasBeenSplit,isNumeric)\n",
    "        \n",
    "    hasBeenSplit[splitAttribute]=False\n",
    "    return root"
   ]
  },
  {
   "cell_type": "code",
   "execution_count": 352,
   "metadata": {},
   "outputs": [],
   "source": [
    "def getSplitAttribute(data,label,hasBeenSplit,isNumeric):\n",
    "    attributes=len(hasBeenSplit)\n",
    "    \n",
    "    curEntropy=Hy(label)\n",
    "    \n",
    "    bestAttribute=-1\n",
    "    conditionalEntropy=1e9\n",
    "    instances=len(data)\n",
    "        \n",
    "    for i in range(attributes):\n",
    "        if(isNumeric[i]):\n",
    "            print(\"HI\")\n",
    "            pass\n",
    "        if(hasBeenSplit[i]):\n",
    "#             print(\"Splitted\")\n",
    "            continue\n",
    "        counterTable={}\n",
    "#         print(i)\n",
    "        \n",
    "        for j in range(instances):\n",
    "            key=data[j][i]\n",
    "            \n",
    "            if key in counterTable:\n",
    "                counterTable[key][label[j]]+=1\n",
    "            else:\n",
    "                counterTable[key]=[0,0]\n",
    "#                 print (counterTable)\n",
    "                counterTable[key][label[j]]+=1\n",
    "        \n",
    "        entropy=0\n",
    "        for key,value in counterTable.items():\n",
    "            prob=(value[0]+value[1])/float(instances)\n",
    "            entropy+=prob*getEntropy(value[1],value[0])\n",
    "        \n",
    "#         print(entropy)\n",
    "        if(entropy<conditionalEntropy):\n",
    "            conditionalEntropy=entropy\n",
    "            bestAttribute=i\n",
    "    \n",
    "#     print(curEntropy)\n",
    "#     print(conditionalEntropy)\n",
    "    \n",
    "    informationGain=curEntropy-conditionalEntropy\n",
    "    \n",
    "    if(informationGain<=0):\n",
    "        return -1\n",
    "    \n",
    "    return bestAttribute\n",
    "            \n",
    "                \n",
    "        \n",
    "        "
   ]
  },
  {
   "cell_type": "code",
   "execution_count": 353,
   "metadata": {},
   "outputs": [],
   "source": [
    "def Hy(y):\n",
    "    instances=len(y)\n",
    "    positives=0\n",
    "    negatives=0\n",
    "    \n",
    "    for i in range(instances):\n",
    "        if(y[i]==0):\n",
    "            negatives+=1\n",
    "        else:\n",
    "            positives+=1\n",
    "\n",
    "    return getEntropy(positives,negatives)"
   ]
  },
  {
   "cell_type": "code",
   "execution_count": 354,
   "metadata": {},
   "outputs": [],
   "source": [
    "def getEntropy(positives,negatives):\n",
    "    p1=positives/float(positives+negatives)\n",
    "    p0=negatives/float(positives+negatives)\n",
    "    \n",
    "    entropy=0\n",
    "    \n",
    "    if(negatives!=0):\n",
    "        entropy+=(-p0*math.log(p0))\n",
    "    \n",
    "    if(positives!=0):\n",
    "        entropy+=(-p1*math.log(p1))\n",
    "    \n",
    "    return entropy"
   ]
  },
  {
   "cell_type": "code",
   "execution_count": 355,
   "metadata": {},
   "outputs": [],
   "source": [
    "def getPrediction(root,instance):\n",
    "    if(root.splitAttribute==-1):\n",
    "        return root.pred\n",
    "    \n",
    "    if(root.isNumeric):\n",
    "        return 0\n",
    "    else:\n",
    "        key=instance[root.splitAttribute]\n",
    "        if key in root.children:\n",
    "            return getPrediction(root.children[key],instance)\n",
    "        else:\n",
    "            return self.pred\n",
    "    \n"
   ]
  },
  {
   "cell_type": "code",
   "execution_count": 356,
   "metadata": {},
   "outputs": [],
   "source": [
    "def getAccuracy(root,data,label):\n",
    "    \n",
    "    instance=len(data)\n",
    "    correct=0\n",
    "    \n",
    "    for i in range(instance):\n",
    "        if(label[i]==getPrediction(root,data[i])):\n",
    "            correct+=1\n",
    "    \n",
    "    return correct/float(instance)"
   ]
  },
  {
   "cell_type": "code",
   "execution_count": 357,
   "metadata": {},
   "outputs": [
    {
     "data": {
      "text/plain": [
       "0.5004024235381879"
      ]
     },
     "execution_count": 357,
     "metadata": {},
     "output_type": "execute_result"
    }
   ],
   "source": [
    "getEntropy(1,4)"
   ]
  },
  {
   "cell_type": "code",
   "execution_count": 358,
   "metadata": {},
   "outputs": [],
   "source": [
    "# test_data"
   ]
  },
  {
   "cell_type": "code",
   "execution_count": 359,
   "metadata": {},
   "outputs": [
    {
     "name": "stdout",
     "output_type": "stream",
     "text": [
      "(27000,)\n",
      "(27000, 14)\n"
     ]
    }
   ],
   "source": [
    "(instances,attributes)=train_data.shape\n",
    "trainLabel=train_data[:,0]\n",
    "trainData=train_data[:,1:attributes]\n",
    "print (trainLabel.shape)\n",
    "print (testLabel.shape)\n",
    "hasBeenSplit=[]\n",
    "isNumeric=[]\n",
    "\n",
    "for i in range(attributes-1):\n",
    "    hasBeenSplit.append(False)\n",
    "    isNumeric.append(False)\n",
    "\n",
    "trainDataList=trainData.tolist()\n",
    "trainLabelList=trainLabel.tolist()\n",
    "# trainLabelList=zip(*trainLabelList)\n",
    "# trainLabelList[0]\n",
    "# print(len(trainDataList))\n",
    "# print(len(trainLabelList[0]))"
   ]
  },
  {
   "cell_type": "code",
   "execution_count": 360,
   "metadata": {},
   "outputs": [],
   "source": [
    "nodes=0\n",
    "root=growTree(trainDataList,trainLabelList,hasBeenSplit,isNumeric)"
   ]
  },
  {
   "cell_type": "code",
   "execution_count": 363,
   "metadata": {},
   "outputs": [
    {
     "name": "stdout",
     "output_type": "stream",
     "text": [
      "7902\n",
      "0.8893333333333333\n"
     ]
    }
   ],
   "source": [
    "print (nodes)\n",
    "print (getAccuracy(root,trainDataList,trainLabelList))\n"
   ]
  },
  {
   "cell_type": "code",
   "execution_count": 362,
   "metadata": {},
   "outputs": [],
   "source": [
    "# b=np.array([1,2,3])\n",
    "# b.shape\n",
    "# type((b.tolist())[0])"
   ]
  },
  {
   "cell_type": "code",
   "execution_count": null,
   "metadata": {},
   "outputs": [],
   "source": []
  },
  {
   "cell_type": "code",
   "execution_count": null,
   "metadata": {},
   "outputs": [],
   "source": []
  },
  {
   "cell_type": "code",
   "execution_count": null,
   "metadata": {},
   "outputs": [],
   "source": []
  },
  {
   "cell_type": "code",
   "execution_count": null,
   "metadata": {},
   "outputs": [],
   "source": []
  },
  {
   "cell_type": "code",
   "execution_count": null,
   "metadata": {},
   "outputs": [],
   "source": []
  },
  {
   "cell_type": "code",
   "execution_count": null,
   "metadata": {},
   "outputs": [],
   "source": []
  },
  {
   "cell_type": "code",
   "execution_count": null,
   "metadata": {},
   "outputs": [],
   "source": []
  },
  {
   "cell_type": "code",
   "execution_count": null,
   "metadata": {},
   "outputs": [],
   "source": []
  },
  {
   "cell_type": "code",
   "execution_count": null,
   "metadata": {},
   "outputs": [],
   "source": []
  },
  {
   "cell_type": "code",
   "execution_count": null,
   "metadata": {},
   "outputs": [],
   "source": []
  },
  {
   "cell_type": "code",
   "execution_count": null,
   "metadata": {},
   "outputs": [],
   "source": []
  },
  {
   "cell_type": "code",
   "execution_count": null,
   "metadata": {},
   "outputs": [],
   "source": []
  }
 ],
 "metadata": {
  "kernelspec": {
   "display_name": "Python 3",
   "language": "python",
   "name": "python3"
  },
  "language_info": {
   "codemirror_mode": {
    "name": "ipython",
    "version": 3
   },
   "file_extension": ".py",
   "mimetype": "text/x-python",
   "name": "python",
   "nbconvert_exporter": "python",
   "pygments_lexer": "ipython3",
   "version": "3.5.2"
  }
 },
 "nbformat": 4,
 "nbformat_minor": 2
}
