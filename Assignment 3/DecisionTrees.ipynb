{
 "cells": [
  {
   "cell_type": "code",
   "execution_count": 282,
   "metadata": {},
   "outputs": [],
   "source": [
    "import numpy as np\n",
    "import read_data\n",
    "import math\n",
    "import matplotlib.pyplot as plt"
   ]
  },
  {
   "cell_type": "markdown",
   "metadata": {},
   "source": [
    "# Node Declaration"
   ]
  },
  {
   "cell_type": "code",
   "execution_count": 283,
   "metadata": {},
   "outputs": [],
   "source": [
    "# Node Declaration\n",
    "\n",
    "class Node:\n",
    "    \n",
    "    def __init__(self):\n",
    "        self.splitAttribute=-1\n",
    "        self.pred=-1\n",
    "        self.positives=0\n",
    "        self.negatives=0\n",
    "        self.children={}\n",
    "        self.median=-1\n",
    "        self.isNumeric=False\n",
    "        self.ChildrenCorrectlyClassified=0"
   ]
  },
  {
   "cell_type": "code",
   "execution_count": 284,
   "metadata": {},
   "outputs": [],
   "source": [
    "def getMedian(data,splitAttribute):\n",
    "        return np.median(data[:,splitAttribute])"
   ]
  },
  {
   "cell_type": "markdown",
   "metadata": {},
   "source": [
    "# Growing Tree"
   ]
  },
  {
   "cell_type": "code",
   "execution_count": 285,
   "metadata": {},
   "outputs": [],
   "source": [
    "def getMajority(y):\n",
    "    positive=0\n",
    "    negative=0\n",
    "    \n",
    "    for i in y:\n",
    "        if(i==0):\n",
    "            negative+=1\n",
    "        else:\n",
    "            positive+=1\n",
    "    \n",
    "    if(positive>=negative):\n",
    "        return 1\n",
    "    else:\n",
    "        return 0"
   ]
  },
  {
   "cell_type": "code",
   "execution_count": 286,
   "metadata": {},
   "outputs": [],
   "source": [
    "def divideData(validData,validLabel,splitAttribute,isNumeric):\n",
    "    distributeData={}\n",
    "    distributeLabel={}\n",
    "    instances=len(validData)\n",
    "        \n",
    "    if(isNumeric):\n",
    "        numpyData=np.asarray(validData,dtype=np.float32)\n",
    "        median=getMedian(numpyData,splitAttribute)\n",
    "            \n",
    "        for i in range(instances):\n",
    "            key=-1\n",
    "            if(validData[i][splitAttribute]<=median):\n",
    "                key=0\n",
    "            else:\n",
    "                key=1\n",
    "            if key in distributeData:\n",
    "                distributeData[key].append(validData[i])\n",
    "                distributeLabel[key].append(validLabel[i])\n",
    "            \n",
    "            else:\n",
    "                distributeData[key]=[validData[i]]\n",
    "                distributeLabel[key]=[validLabel[i]]\n",
    "\n",
    "    else:\n",
    "        for i in range(instances):\n",
    "            key=validData[i][splitAttribute]\n",
    "            \n",
    "            if key in distributeData:\n",
    "                distributeData[key].append(validData[i])\n",
    "                distributeLabel[key].append(validLabel[i])\n",
    "            \n",
    "            else:\n",
    "                distributeData[key]=[validData[i]]\n",
    "                distributeLabel[key]=[validLabel[i]]\n",
    "    return (distributeData,distributeLabel)\n",
    "    "
   ]
  },
  {
   "cell_type": "code",
   "execution_count": 287,
   "metadata": {},
   "outputs": [],
   "source": [
    "def growTree(root,data,label,hasBeenSplit,isNumeric,plotMode=False,plotEvery=100,trA=None,teA=None,vA=None,nC=None,headRoot=None):\n",
    "    \n",
    "    global nodes\n",
    "    \n",
    "    if(not plotMode):\n",
    "        nodes+=1\n",
    "\n",
    "#     get Best Splitting Attribute\n",
    "    splitAttribute=getSplitAttribute(data,label,hasBeenSplit,isNumeric)\n",
    "    \n",
    "    instances=len(data)\n",
    "    positives=0.0\n",
    "    negatives=0.0\n",
    "    \n",
    "    for i in range(instances):\n",
    "        if(label[i]==1):\n",
    "            positives+=1\n",
    "        else:\n",
    "            negatives+=1\n",
    "\n",
    "    root.splitAttribute=splitAttribute\n",
    "    root.positives=positives\n",
    "    root.negatives=negatives\n",
    "    if(positives>=negatives):\n",
    "        root.pred=1\n",
    "    else:\n",
    "        root.pred=0\n",
    "        \n",
    "    if(splitAttribute==-1):\n",
    "        return\n",
    "    if(positives==0 or negatives==0):\n",
    "        return\n",
    "    \n",
    "    hasBeenSplit[splitAttribute]=True\n",
    "\n",
    "    if(isNumeric[splitAttribute]):\n",
    "        root.isNumeric=True\n",
    "        root.median=getMedian(np.asarray(data),splitAttribute)\n",
    "        \n",
    "    (distributeData,distributeLabel)=divideData(data,label,splitAttribute,root.isNumeric)\n",
    "    \n",
    "    if(len(distributeLabel)==1):\n",
    "        root.splitAttribute=-1\n",
    "        hasBeenSplit[splitAttribute]=False\n",
    "        return\n",
    "\n",
    "    \n",
    "    if(plotMode):\n",
    "        nodes+=len(distributeData)\n",
    "        global prevAcc\n",
    "        \n",
    "        for key,value in distributeLabel.items():\n",
    "            root.children[key]=Node()\n",
    "            root.children[key].pred=getMajority(value)\n",
    "        \n",
    "        if(nodes-prevAcc>=plotEvery):\n",
    "            prevAcc=nodes\n",
    "            nC.append(nodes)\n",
    "            trA.append(getAccuracy(headRoot,trainX,trainY))\n",
    "            teA.append(getAccuracy(headRoot,testX,testY))\n",
    "            vA.append(getAccuracy(headRoot,validX,validY))\n",
    "            \n",
    "   \n",
    "    for key,value in distributeData.items():\n",
    "        root.children[key]=Node()\n",
    "        growTree(root.children[key],value,distributeLabel[key],hasBeenSplit,isNumeric,plotMode,plotEvery,trA,teA,vA,nC,headRoot)\n",
    "        \n",
    "    hasBeenSplit[splitAttribute]=False\n",
    "    return"
   ]
  },
  {
   "cell_type": "markdown",
   "metadata": {},
   "source": [
    "# Selecting Best Attribute"
   ]
  },
  {
   "cell_type": "code",
   "execution_count": 288,
   "metadata": {},
   "outputs": [],
   "source": [
    "def getSplitAttribute(data,label,hasBeenSplit,isNumeric):\n",
    "    attributes=len(hasBeenSplit)\n",
    "    \n",
    "    curEntropy=Hy(label)\n",
    "    \n",
    "    bestAttribute=-1\n",
    "    conditionalEntropy=1e9\n",
    "    instances=len(data)\n",
    "    numpyData=np.asarray(data,dtype=np.float32)\n",
    "        \n",
    "    for i in range(attributes):\n",
    "\n",
    "        if(hasBeenSplit[i] and not isNumeric[i]):\n",
    "            continue\n",
    "        counterTable={}\n",
    "        median=-1\n",
    "        if(isNumeric[i]):\n",
    "            median=getMedian(numpyData,i)\n",
    "        \n",
    "        for j in range(instances):\n",
    "            key=-1\n",
    "            if(not isNumeric[i]):\n",
    "                key=data[j][i]\n",
    "            else:\n",
    "                if(data[j][i]<=median):\n",
    "                    key=0\n",
    "                else:\n",
    "                    key=1\n",
    "            \n",
    "            if key in counterTable:\n",
    "                counterTable[key][int(label[j])]+=1\n",
    "            else:\n",
    "                counterTable[key]=[0,0]\n",
    "                counterTable[key][int(label[j])]+=1\n",
    "        \n",
    "        entropy=0\n",
    "        for key,value in counterTable.items():\n",
    "            prob=(value[0]+value[1])/float(instances)\n",
    "            entropy+=prob*getEntropy(value[1],value[0])\n",
    "        \n",
    "        if(entropy<conditionalEntropy):\n",
    "            conditionalEntropy=entropy\n",
    "            bestAttribute=i\n",
    "    \n",
    "    informationGain=curEntropy-conditionalEntropy\n",
    "    \n",
    "#     print(informationGain)\n",
    "    \n",
    "#     if(informationGain<=0):\n",
    "#         return -1\n",
    "    \n",
    "    return bestAttribute\n",
    "            \n",
    "                \n",
    "        \n",
    "        "
   ]
  },
  {
   "cell_type": "code",
   "execution_count": 289,
   "metadata": {},
   "outputs": [],
   "source": [
    "def Hy(y):\n",
    "    instances=len(y)\n",
    "    positives=0\n",
    "    negatives=0\n",
    "    \n",
    "    for i in range(instances):\n",
    "        if(y[i]==0):\n",
    "            negatives+=1\n",
    "        else:\n",
    "            positives+=1\n",
    "\n",
    "    return getEntropy(positives,negatives)"
   ]
  },
  {
   "cell_type": "code",
   "execution_count": 290,
   "metadata": {},
   "outputs": [],
   "source": [
    "def getEntropy(positives,negatives):\n",
    "    p1=positives/float(positives+negatives)\n",
    "    p0=negatives/float(positives+negatives)\n",
    "    \n",
    "    entropy=0\n",
    "    \n",
    "    if(negatives!=0):\n",
    "        entropy+=(-p0*math.log(p0))\n",
    "    \n",
    "    if(positives!=0):\n",
    "        entropy+=(-p1*math.log(p1))\n",
    "    \n",
    "    return entropy"
   ]
  },
  {
   "cell_type": "markdown",
   "metadata": {},
   "source": [
    "## Count Nodes"
   ]
  },
  {
   "cell_type": "code",
   "execution_count": 291,
   "metadata": {},
   "outputs": [],
   "source": [
    "def countNodes(root):\n",
    "    if(root.splitAttribute==-1):\n",
    "        return 1\n",
    "    ans=1\n",
    "    for key,values in root.children.items():\n",
    "        ans+=countNodes(values)\n",
    "    return ans"
   ]
  },
  {
   "cell_type": "markdown",
   "metadata": {},
   "source": [
    "# Prediction & Accuracy"
   ]
  },
  {
   "cell_type": "code",
   "execution_count": 292,
   "metadata": {},
   "outputs": [],
   "source": [
    "def getPrediction(root,instance):\n",
    "    if(root.splitAttribute==-1):\n",
    "        return root.pred\n",
    "    \n",
    "    key=-1\n",
    "    \n",
    "    if(root.isNumeric):\n",
    "        if(instance[root.splitAttribute]<=root.median):\n",
    "            key=0\n",
    "        else:\n",
    "            key=1\n",
    "    else:\n",
    "        key=instance[root.splitAttribute]\n",
    "    \n",
    "    if key in root.children:\n",
    "        return getPrediction(root.children[key],instance)\n",
    "    else:\n",
    "        return root.pred\n",
    "\n"
   ]
  },
  {
   "cell_type": "code",
   "execution_count": 293,
   "metadata": {},
   "outputs": [],
   "source": [
    "def getAccuracy(root,data,label):\n",
    "    \n",
    "    instance=len(data)\n",
    "    correct=0\n",
    "    \n",
    "    for i in range(instance):\n",
    "        if(label[i]==getPrediction(root,data[i])):\n",
    "            correct+=1\n",
    "    \n",
    "    return correct/float(instance)"
   ]
  },
  {
   "cell_type": "markdown",
   "metadata": {},
   "source": [
    "# Pruning"
   ]
  },
  {
   "cell_type": "code",
   "execution_count": 295,
   "metadata": {},
   "outputs": [],
   "source": [
    "# def prune(root,originalRoot,validData,validLabel):\n",
    "    \n",
    "#     bestAccuracy=0\n",
    "#     bestParent=root\n",
    "#     bestKey=-1\n",
    "    \n",
    "#     temp=dict(root.children)\n",
    "    \n",
    "#     for key,value in temp.items():\n",
    "# #         print(key)\n",
    "#         root.children.pop(key, None)\n",
    "#         accuracy=getAccuracy(originalRoot,validData,validLabel)\n",
    "#         if(accuracy>bestAccuracy):\n",
    "#             bestAccuracy=accuracy\n",
    "#             bestKey=key\n",
    "#         root.children[key]=value\n",
    "    \n",
    "#     for key,value in root.children.items():\n",
    "#         tupleA=prune(value,originalRoot,validData,validLabel)\n",
    "#         if(tupleA[0]>bestAccuracy):\n",
    "#             bestAccuracy=tupleA[0]\n",
    "#             bestParent=tupleA[1]\n",
    "#             bestKey=tupleA[2]\n",
    "    \n",
    "#     return (bestAccuracy,bestParent,bestKey)\n",
    "        "
   ]
  },
  {
   "cell_type": "code",
   "execution_count": 296,
   "metadata": {},
   "outputs": [],
   "source": [
    "# def efficientPrune(root,originalRoot,validData,validLabel,firstTime):\n",
    "    \n",
    "#     bestAccuracy=0\n",
    "#     bestParent=root\n",
    "#     bestKey=-1\n",
    "    \n",
    "#     temp=dict(root.children)\n",
    "    \n",
    "#     if(not firstTime and root.recalculate==False):\n",
    "#         return root.prunedTuple\n",
    "\n",
    "#     for key,value in temp.items():\n",
    "#         root.children.pop(key, None)\n",
    "#         accuracy=getAccuracy(originalRoot,validData,validLabel)\n",
    "#         if(accuracy>bestAccuracy):\n",
    "#             bestAccuracy=accuracy\n",
    "#             bestKey=key\n",
    "#         root.children[key]=value\n",
    "    \n",
    "#     for key,value in root.children.items():\n",
    "#         tupleA=efficientPrune(value,originalRoot,validData,validLabel,firstTime)\n",
    "#         if(tupleA[0]>bestAccuracy):\n",
    "#             bestAccuracy=tupleA[0]\n",
    "#             bestParent=tupleA[1]\n",
    "#             bestKey=tupleA[2]\n",
    "    \n",
    "#     root.recalculate=False\n",
    "#     root.prunedTuple=(bestAccuracy,bestParent,bestKey)\n",
    "#     return (bestAccuracy,bestParent,bestKey)\n",
    "        "
   ]
  },
  {
   "cell_type": "code",
   "execution_count": 297,
   "metadata": {},
   "outputs": [],
   "source": [
    "# def updateTillParent(root):\n",
    "    \n",
    "#     while root is not None:\n",
    "#         root.recalculate=True\n",
    "#         root=root.parent\n",
    "        "
   ]
  },
  {
   "cell_type": "markdown",
   "metadata": {},
   "source": [
    "# Run Slow Pruning"
   ]
  },
  {
   "cell_type": "code",
   "execution_count": 298,
   "metadata": {},
   "outputs": [],
   "source": [
    "# formerBest=getAccuracy(root,validX,validY)\n",
    "# while True:\n",
    "#     print (\"Hi\")\n",
    "#     (bestAccuracy,pruneNodeParent,prunedKey)=prune(root,root,validX,validY)\n",
    "#     print(formerBest,\" \",bestAccuracy)\n",
    "#     if(bestAccuracy>formerBest):\n",
    "#         pruneNodeParent.children.pop(prunedKey, None)\n",
    "#         formerBest=bestAccuracy\n",
    "#     else:\n",
    "#         break"
   ]
  },
  {
   "cell_type": "code",
   "execution_count": 299,
   "metadata": {},
   "outputs": [],
   "source": [
    "# formerBest=getAccuracy(root,validX,validY)\n",
    "# firstTime=True\n",
    "# while True:\n",
    "#     print (\"Hi\")\n",
    "#     (bestAccuracy,pruneNodeParent,prunedKey)=efficientPrune(root,root,validX,validY,firstTime)\n",
    "#     firstTime=False\n",
    "#     print(formerBest,\" \",bestAccuracy)\n",
    "#     if(bestAccuracy>formerBest):\n",
    "#         pruneNodeParent.children.pop(prunedKey, None)\n",
    "#         formerBest=bestAccuracy\n",
    "#         updateTillParent(pruneNodeParent)\n",
    "#     else:\n",
    "#         break"
   ]
  },
  {
   "cell_type": "code",
   "execution_count": 300,
   "metadata": {},
   "outputs": [],
   "source": [
    "# https://leemendelowitz.github.io/blog/how-does-python-find-packages.html"
   ]
  },
  {
   "cell_type": "markdown",
   "metadata": {},
   "source": [
    "# Efficient Pruning"
   ]
  },
  {
   "cell_type": "code",
   "execution_count": 301,
   "metadata": {},
   "outputs": [],
   "source": [
    "def newprune(root,validData,validLabel):\n",
    "    \n",
    "    bestIncrease=0\n",
    "    bestNode=root\n",
    "\n",
    "    if(root.splitAttribute==-1):\n",
    "        return (bestIncrease,bestNode)\n",
    "    \n",
    "    pruneCorrect=0\n",
    "    instances=len(validData)\n",
    "    for i in range(instances):\n",
    "        if(validLabel[i]==root.pred):\n",
    "            pruneCorrect+=1\n",
    "    \n",
    "    if(bestIncrease<(pruneCorrect-root.ChildrenCorrectlyClassified)):\n",
    "        bestIncrease=(pruneCorrect-root.ChildrenCorrectlyClassified)\n",
    "        \n",
    "    (distributeData,distributeLabel)=divideData(validData,validLabel,root.splitAttribute,root.isNumeric)\n",
    "    \n",
    "    for key,value in root.children.items():\n",
    "        if key not in distributeData:\n",
    "            continue\n",
    "        tupleA=newprune(value,distributeData[key],distributeLabel[key])\n",
    "        if(tupleA[0]>bestIncrease):\n",
    "            bestIncrease=tupleA[0]\n",
    "            bestNode=tupleA[1]\n",
    "    \n",
    "    return (bestIncrease,bestNode)"
   ]
  },
  {
   "cell_type": "code",
   "execution_count": 302,
   "metadata": {},
   "outputs": [],
   "source": [
    "def prePrune(root,validData,validLabel):\n",
    "    \n",
    "    instances=len(validData)\n",
    "    correctlyDone=0\n",
    "    if(root.splitAttribute==-1):\n",
    "        for i in range(instances):\n",
    "            if(validLabel[i]==root.pred):\n",
    "                correctlyDone+=1\n",
    "    \n",
    "    else:\n",
    "        (distributeData,distributeLabel)=divideData(validData,validLabel,root.splitAttribute,root.isNumeric)\n",
    "        \n",
    "        for key,value in distributeData.items():\n",
    "            if key in root.children:\n",
    "                correctlyDone+=prePrune(root.children[key],value,distributeLabel[key])\n",
    "            else:\n",
    "                temp=len(value)\n",
    "                for i in range(temp):\n",
    "                    if(distributeLabel[key][i]==root.pred):\n",
    "                        correctlyDone+=1\n",
    "    \n",
    "    root.ChildrenCorrectlyClassified=correctlyDone\n",
    "    return correctlyDone"
   ]
  },
  {
   "cell_type": "markdown",
   "metadata": {},
   "source": [
    "# Testing Code Training and Pruning (Part a and b)"
   ]
  },
  {
   "cell_type": "code",
   "execution_count": 303,
   "metadata": {},
   "outputs": [],
   "source": [
    "# train_data = read_data.preprocess(\"Dataset/DT/dtree_data/train.csv\")\n",
    "# valid_data = read_data.preprocess(\"Dataset/DT/dtree_data/valid.csv\")\n",
    "# test_data = read_data.preprocess(\"Dataset/DT/dtree_data/test.csv\")"
   ]
  },
  {
   "cell_type": "code",
   "execution_count": 337,
   "metadata": {},
   "outputs": [],
   "source": [
    "train_data = read_data.preprocess(\"Dataset/DT/dtree_data/train.csv\",False)\n",
    "valid_data = read_data.preprocess(\"Dataset/DT/dtree_data/valid.csv\",False)\n",
    "test_data = read_data.preprocess(\"Dataset/DT/dtree_data/test.csv\",False)"
   ]
  },
  {
   "cell_type": "code",
   "execution_count": 338,
   "metadata": {
    "scrolled": true
   },
   "outputs": [
    {
     "name": "stdout",
     "output_type": "stream",
     "text": [
      "(27000, 15)\n",
      "(3000, 15)\n",
      "(7000, 15)\n"
     ]
    },
    {
     "data": {
      "text/plain": [
       "tuple"
      ]
     },
     "execution_count": 338,
     "metadata": {},
     "output_type": "execute_result"
    }
   ],
   "source": [
    "print (train_data.shape)\n",
    "print (valid_data.shape)\n",
    "print (test_data.shape)\n",
    "type(train_data.shape)"
   ]
  },
  {
   "cell_type": "code",
   "execution_count": 306,
   "metadata": {},
   "outputs": [],
   "source": [
    "def getLists(train_data):\n",
    "    (instances,attributes)=train_data.shape\n",
    "    trainLabel=train_data[:,0]\n",
    "    trainData=train_data[:,1:attributes]\n",
    "    trainDataList=trainData.tolist()\n",
    "    trainLabelList=trainLabel.tolist()\n",
    "    return(trainDataList,trainLabelList)\n"
   ]
  },
  {
   "cell_type": "code",
   "execution_count": 307,
   "metadata": {},
   "outputs": [],
   "source": [
    "(trainX,trainY)=getLists(train_data)\n",
    "(validX,validY)=getLists(valid_data)\n",
    "(testX,testY)  =getLists(test_data)"
   ]
  },
  {
   "cell_type": "code",
   "execution_count": 308,
   "metadata": {},
   "outputs": [],
   "source": [
    "hasBeenSplit=[]\n",
    "isNumeric=[]\n",
    "attributes=train_data.shape[1]\n",
    "for i in range(attributes-1):\n",
    "    hasBeenSplit.append(False)\n",
    "    isNumeric.append(False)\n",
    "\n",
    "# isNumeric[0]=True\n",
    "# isNumeric[2]=True\n",
    "# isNumeric[4]=True\n",
    "# isNumeric[10]=True\n",
    "# isNumeric[11]=True\n",
    "# isNumeric[12]=True"
   ]
  },
  {
   "cell_type": "code",
   "execution_count": 320,
   "metadata": {},
   "outputs": [],
   "source": [
    "nodes=0\n",
    "root=Node()\n",
    "growTree(root,trainX,trainY,hasBeenSplit,isNumeric)"
   ]
  },
  {
   "cell_type": "code",
   "execution_count": 321,
   "metadata": {
    "scrolled": false
   },
   "outputs": [
    {
     "name": "stdout",
     "output_type": "stream",
     "text": [
      "7962\n",
      "7962\n",
      "0.8893333333333333\n",
      "0.8024285714285714\n",
      "0.7916666666666666\n"
     ]
    }
   ],
   "source": [
    "print (nodes)\n",
    "print (countNodes(root))\n",
    "print (getAccuracy(root,trainX,trainY))\n",
    "print (getAccuracy(root,testX,testY))\n",
    "print (getAccuracy(root,validX,validY))"
   ]
  },
  {
   "cell_type": "code",
   "execution_count": 280,
   "metadata": {},
   "outputs": [
    {
     "name": "stdout",
     "output_type": "stream",
     "text": [
      "PrePruned\n",
      "0\n"
     ]
    }
   ],
   "source": [
    "pruned=0\n",
    "while True:\n",
    "    val=prePrune(root,validX,validY)\n",
    "    print (\"PrePruned\")\n",
    "    (bestIncrease,bestNode)=newprune(root,validX,validY)\n",
    "    print(bestIncrease)\n",
    "    if(bestIncrease>0):\n",
    "        pruned+=1\n",
    "        bestNode.splitAttribute=-1\n",
    "    else:\n",
    "        break"
   ]
  },
  {
   "cell_type": "code",
   "execution_count": 281,
   "metadata": {},
   "outputs": [
    {
     "name": "stdout",
     "output_type": "stream",
     "text": [
      "0\n",
      "2378\n",
      "0.8507777777777777\n",
      "0.8232857142857143\n",
      "0.835\n"
     ]
    }
   ],
   "source": [
    "print (pruned)\n",
    "print (countNodes(root))\n",
    "print (getAccuracy(root,trainX,trainY))\n",
    "print (getAccuracy(root,testX,testY))\n",
    "print (getAccuracy(root,validX,validY))"
   ]
  },
  {
   "cell_type": "markdown",
   "metadata": {},
   "source": [
    "# Detour for Plotting"
   ]
  },
  {
   "cell_type": "code",
   "execution_count": 335,
   "metadata": {},
   "outputs": [],
   "source": [
    "def plotAccuracy(filename,invert=False):\n",
    "\n",
    "    plt.figure(1)\n",
    "    fig, ax = plt.subplots(figsize=(9, 7), dpi= 240)\n",
    "    instance=len(nC)\n",
    "    if(invert):\n",
    "        plt.xlim(nC[0]+100,nC[instance-1]-100)\n",
    "    plt.xlabel(\"Node Count\")\n",
    "    plt.ylabel(\"Accuracy(%)\")\n",
    "    plt.title(\"Accuracy vs NodeCount\")\n",
    "    ax.plot(np.asarray(nC),np.asarray(trA)*100,'-o',label='Train Accuracy')\n",
    "    ax.plot(np.asarray(nC),np.asarray(teA)*100,'-og',label='Test Accuracy')\n",
    "    ax.plot(np.asarray(nC),np.asarray(vA)*100,'-or',label='Valid Accuracy')\n",
    "    \n",
    "    if(invert):\n",
    "        legend = ax.legend(loc='upper right',fontsize='x-small')\n",
    "    else:\n",
    "        legend = ax.legend(loc='upper left',fontsize='x-small')\n",
    "    legend.get_frame().set_facecolor('#00FFCC')\n",
    "    plt.savefig(filename+'.png')\n"
   ]
  },
  {
   "cell_type": "code",
   "execution_count": 322,
   "metadata": {},
   "outputs": [],
   "source": [
    "prevAcc=0\n",
    "nC=[]\n",
    "trA=[]\n",
    "teA=[]\n",
    "vA=[]"
   ]
  },
  {
   "cell_type": "code",
   "execution_count": 313,
   "metadata": {
    "scrolled": true
   },
   "outputs": [],
   "source": [
    "# Plotting accuracies while growing\n",
    "# nodes=1\n",
    "# root=Node()\n",
    "# growTree(root,trainX,trainY,hasBeenSplit,isNumeric,True,200,trA,teA,vA,nC,root)\n",
    "# plotAccuracy(\"Accuracy\")"
   ]
  },
  {
   "cell_type": "code",
   "execution_count": 339,
   "metadata": {},
   "outputs": [],
   "source": [
    "# pruned=0\n",
    "# while True:\n",
    "#     nC.append(countNodes(root))\n",
    "#     trA.append(getAccuracy(root,trainX,trainY))\n",
    "#     teA.append(getAccuracy(root,testX,testY))\n",
    "#     vA.append(getAccuracy(root,validX,validY))\n",
    "    \n",
    "#     val=prePrune(root,validX,validY)\n",
    "#     print (\"PrePruned\")\n",
    "#     (bestIncrease,bestNode)=newprune(root,validX,validY)\n",
    "#     print(bestIncrease)\n",
    "#     if(bestIncrease>0):\n",
    "#         pruned+=1\n",
    "#         bestNode.splitAttribute=-1\n",
    "#     else:\n",
    "#         break"
   ]
  },
  {
   "cell_type": "code",
   "execution_count": 340,
   "metadata": {},
   "outputs": [],
   "source": [
    "# plotAccuracy(\"VanillaDtPruning\",invert=True)"
   ]
  },
  {
   "cell_type": "code",
   "execution_count": null,
   "metadata": {},
   "outputs": [],
   "source": []
  },
  {
   "cell_type": "code",
   "execution_count": null,
   "metadata": {},
   "outputs": [],
   "source": []
  },
  {
   "cell_type": "code",
   "execution_count": null,
   "metadata": {},
   "outputs": [],
   "source": []
  },
  {
   "cell_type": "code",
   "execution_count": null,
   "metadata": {},
   "outputs": [],
   "source": []
  },
  {
   "cell_type": "code",
   "execution_count": null,
   "metadata": {},
   "outputs": [],
   "source": []
  },
  {
   "cell_type": "code",
   "execution_count": null,
   "metadata": {},
   "outputs": [],
   "source": []
  },
  {
   "cell_type": "code",
   "execution_count": null,
   "metadata": {},
   "outputs": [],
   "source": []
  },
  {
   "cell_type": "code",
   "execution_count": null,
   "metadata": {},
   "outputs": [],
   "source": []
  },
  {
   "cell_type": "code",
   "execution_count": null,
   "metadata": {},
   "outputs": [],
   "source": []
  }
 ],
 "metadata": {
  "kernelspec": {
   "display_name": "Python 3",
   "language": "python",
   "name": "python3"
  },
  "language_info": {
   "codemirror_mode": {
    "name": "ipython",
    "version": 3
   },
   "file_extension": ".py",
   "mimetype": "text/x-python",
   "name": "python",
   "nbconvert_exporter": "python",
   "pygments_lexer": "ipython3",
   "version": "3.5.2"
  }
 },
 "nbformat": 4,
 "nbformat_minor": 2
}
